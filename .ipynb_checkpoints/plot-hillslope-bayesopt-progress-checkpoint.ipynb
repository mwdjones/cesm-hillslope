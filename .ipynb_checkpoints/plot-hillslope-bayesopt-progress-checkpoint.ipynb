{
 "cells": [
  {
   "cell_type": "code",
   "execution_count": 2,
   "id": "caa9e155-84f5-43d4-b3f1-b22e794b0e8d",
   "metadata": {},
   "outputs": [],
   "source": [
    "'''Import'''\n",
    "import numpy as np\n",
    "import matplotlib.pyplot as plt\n",
    "from matplotlib import gridspec\n",
    "import pandas as pd\n",
    "import xarray as xr\n",
    "from bayes_opt import BayesianOptimization\n",
    "from bayes_opt import UtilityFunction\n",
    "\n",
    "import time \n",
    "import seaborn as sns\n",
    "from itertools import product\n",
    "from scipy.interpolate import interp2d\n",
    "from bayes_opt.logger import JSONLogger\n",
    "from bayes_opt.event import Events\n",
    "from bayes_opt.util import load_logs\n",
    "\n",
    "#ML\n",
    "from sklearn.gaussian_process import GaussianProcessRegressor "
   ]
  },
  {
   "cell_type": "code",
   "execution_count": 3,
   "id": "f1ce3fc5-c0fc-446f-858e-2670bf6a0531",
   "metadata": {
    "jupyter": {
     "source_hidden": true
    }
   },
   "outputs": [],
   "source": [
    "def blackbox_clm(baseflow, fmax):\n",
    "    #change parameter in netcdf file\n",
    "    target_surface_file = '/glade/work/marielj/inputdata/lnd/clm2/surfdata_map/hillslope/surfdata_1x1pt_US-MBP_hist_16pfts_Irrig_CMIP6_simyr2000_HAND_3_col_hillslope_lagg_pft_soildepth.nc'\n",
    "    target_param1 = 'baseflow_scalar'\n",
    "    target_param2 = 'FMAX' \n",
    "    \n",
    "    #change fmax\n",
    "    change_surf_param(target_param2, fmax, 0, target_surface_file)\n",
    "    \n",
    "    os.chdir(CASE_DIR)\n",
    "    \n",
    "    #change baseflow_scalar\n",
    "    change_nl_param(target_param1, baseflow)\n",
    "    \n",
    "    #run case\n",
    "    pipe = subprocess.Popen(['qcmd', '-- ./case.submit'], stdout=subprocess.PIPE)\n",
    "    #result = pipe.communicate()[0]\n",
    "    #print(result)\n",
    "    #print(CASE_NAME + \" Run Complete\")\n",
    "    \n",
    "    #time delay -- check if archived data exists, if not wait 5 more seconds\n",
    "    SCRATCH_DIR = '/glade/scratch/marielj/archive/' + CASE_NAME + '/lnd/hist/'\n",
    "    while(not os.path.exists(SCRATCH_DIR + CASE_NAME + '.clm2.h2.2015-01-01-00000.nc')):\n",
    "        time.sleep(5)\n",
    "    \n",
    "    #find WTE data in scracth directory\n",
    "    os.chdir(SCRATCH_DIR)\n",
    "    \n",
    "    #Open data h1 data file\n",
    "    dat = xr.load_dataset(CASE_NAME + '.clm2.h2.2015-01-01-00000.nc')\n",
    "    mod = dat.QRUNOFF.values.reshape(365)\n",
    "    meas = np.array(stream['Flow_mms'])\n",
    "    \n",
    "    #Compute correlation\n",
    "    r2_plot = rsquared(meas, mod)\n",
    "    \n",
    "    #remove data\n",
    "    os.remove(CASE_NAME + '.clm2.h2.2015-01-01-00000.nc')\n",
    "    \n",
    "    #return average annual WTE\n",
    "    return r2_plot\n",
    "\n",
    "acquisition_function = UtilityFunction(kind = \"ucb\", kappa = 10e2)"
   ]
  },
  {
   "cell_type": "code",
   "execution_count": 4,
   "id": "0b30662c-e672-43f9-a6e1-d65a6a6c1405",
   "metadata": {},
   "outputs": [],
   "source": [
    "'''Load Optimizer'''\n",
    "clm_optimizer = BayesianOptimization(f = blackbox_clm, \n",
    "                                    pbounds = {'baseflow': (0,10),\n",
    "                                               'fmax': (0, 0.4)}, \n",
    "                                    random_state = 4324, \n",
    "                                    verbose = 0\n",
    "                                    )\n",
    "#logger object records optimization search\n",
    "load_logs(clm_optimizer, logs=[\"./logs/hillslope_logs_soilpftmods_wte.json\"]);"
   ]
  },
  {
   "cell_type": "code",
   "execution_count": 5,
   "id": "3df63d90-6d87-4064-bce3-6461cbd2ec57",
   "metadata": {},
   "outputs": [
    {
     "name": "stdout",
     "output_type": "stream",
     "text": [
      "New optimizer is now aware of 5 points.\n"
     ]
    }
   ],
   "source": [
    "print(\"New optimizer is now aware of {} points.\".format(len(clm_optimizer.space)))"
   ]
  },
  {
   "cell_type": "code",
   "execution_count": 6,
   "id": "5e64833f-3223-43b1-b75f-b45715fb92d5",
   "metadata": {},
   "outputs": [
    {
     "data": {
      "text/plain": [
       "Text(0, 0.5, '$R^2')"
      ]
     },
     "execution_count": 6,
     "metadata": {},
     "output_type": "execute_result"
    },
    {
     "data": {
      "image/png": "[encoded data removed]",
      "text/plain": [
       "<Figure size 500x300 with 1 Axes>"
      ]
     },
     "metadata": {},
     "output_type": "display_data"
    }
   ],
   "source": [
    "#R2 values - model fit\n",
    "x = [res[\"target\"] for res in clm_optimizer.res]\n",
    "\n",
    "fig, ax = plt.subplots(1, 1, figsize = (5, 3))\n",
    "ax.plot(x)\n",
    "ax.set_xlabel('Run #')\n",
    "ax.set_ylabel(r'$R^2')"
   ]
  },
  {
   "cell_type": "code",
   "execution_count": 7,
   "id": "14f489d6-c93f-423e-895e-8f75e7554890",
   "metadata": {},
   "outputs": [],
   "source": [
    "def plot_gp_2D(optimizer, aq, it, param1, param2, param1_min, param1_max, param2_min, param2_max):\n",
    "    #Setup \n",
    "    #Breakdown Data\n",
    "    max_ = optimizer.max\n",
    "    res = optimizer.res[:it]\n",
    "    x_ = np.array([r[\"params\"][param1] for r in res])\n",
    "    y_ = np.array([r[\"params\"][param2] for r in res])\n",
    "    z_ = np.array([r[\"target\"] for r in res])\n",
    "\n",
    "    #Model Results\n",
    "    ser = pd.Series(z_, index=[y_, x_])\n",
    "    Z = ser.unstack().fillna(np.nan)\n",
    "\n",
    "    #Range space\n",
    "    x1 = np.linspace(param1_min, param1_max, 100).reshape(-1, 1)\n",
    "    x2 = np.linspace(param2_min, param2_max, 100).reshape(-1, 1)\n",
    "    xmesh, ymesh = np.meshgrid(x1, x2)\n",
    "    xy = np.array(list(zip(xmesh.reshape(10000, 1), ymesh.reshape(10000, 1)))).reshape(10000,2)\n",
    "\n",
    "    #Utility Function\n",
    "    util = aq.utility(xy, optimizer._gp, 0)\n",
    "    \n",
    "    #Plot\n",
    "    fig, axs = plt.subplots(1, 1, constrained_layout=True, figsize=(6,6))\n",
    "\n",
    "    #Axis 1: Function Estimate\n",
    "    mesh1 = axs.pcolormesh(Z.columns, Z.index,  Z, cmap=plt.cm.coolwarm)\n",
    "    axs.scatter(x_, y_, c='white', s=80, edgecolors='black')\n",
    "    axs.scatter(x_, y_, c='red', s=80, edgecolors='black')\n",
    "    axs.scatter(max_[\"params\"][param1], max_[\"params\"][param2], s=80, c='green', edgecolors='black')\n",
    "\n",
    "    axs.set_title('Function Estimate')\n",
    "    axs.set_xlabel(param1)\n",
    "    axs.set_ylabel(param2)\n",
    "\n",
    "    axs.set_xlim(param1_min, param1_max)\n",
    "    axs.set_ylim(param2_min, param2_max)\n",
    "\n",
    "    fig.colorbar(mesh1, location = 'bottom', label = \"Predicted Average Annual WTD\")\n",
    "    plt.show()"
   ]
  },
  {
   "cell_type": "code",
   "execution_count": 8,
   "id": "248d88ac-6d9a-4874-a1e1-9b40c8d0ddf6",
   "metadata": {},
   "outputs": [
    {
     "data": {
      "image/png": "[encoded data removed]",
      "text/plain": [
       "<Figure size 600x600 with 2 Axes>"
      ]
     },
     "metadata": {},
     "output_type": "display_data"
    }
   ],
   "source": [
    "plot_gp_2D(clm_optimizer, acquisition_function, 70, 'baseflow', 'fmax', 0, 10, 0, 0.4)"
   ]
  },
  {
   "cell_type": "code",
   "execution_count": 9,
   "id": "0ce8d050-fd23-4af2-9bc0-634c4d6c2e8c",
   "metadata": {
    "scrolled": true
   },
   "outputs": [
    {
     "data": {
      "text/plain": [
       "[{'target': 0.26009330338005243,\n",
       "  'params': {'baseflow': 7.601370568382025, 'fmax': 0.14647799931680192}},\n",
       " {'target': 0.26970724715818156,\n",
       "  'params': {'baseflow': 5.489111757128916, 'fmax': 0.00803708531447538}},\n",
       " {'target': 0.25204242964423446,\n",
       "  'params': {'baseflow': 0.12221613081773275, 'fmax': 0.18262737834496298}},\n",
       " {'target': 0.2281401952010722,\n",
       "  'params': {'baseflow': 9.83118876475576, 'fmax': 0.3855760349851663}},\n",
       " {'target': 0.2737150115745676,\n",
       "  'params': {'baseflow': 0.8620283704462894, 'fmax': 0.20442764472441555}}]"
      ]
     },
     "execution_count": 9,
     "metadata": {},
     "output_type": "execute_result"
    }
   ],
   "source": [
    "clm_optimizer.res"
   ]
  },
  {
   "cell_type": "code",
   "execution_count": 10,
   "id": "9fe3e7f3-fa94-4944-97ca-c6812c48c80e",
   "metadata": {},
   "outputs": [
    {
     "data": {
      "text/plain": [
       "{'target': 0.2737150115745676,\n",
       " 'params': {'baseflow': 0.8620283704462894, 'fmax': 0.20442764472441555}}"
      ]
     },
     "execution_count": 10,
     "metadata": {},
     "output_type": "execute_result"
    }
   ],
   "source": [
    "clm_optimizer.max"
   ]
  },
  {
   "cell_type": "code",
   "execution_count": null,
   "id": "22790aa5-316b-4f4a-88dc-5d4bdbf94a0f",
   "metadata": {},
   "outputs": [],
   "source": []
  },
  {
   "cell_type": "code",
   "execution_count": null,
   "id": "8b102c04-9ef8-4992-a03a-aaef04ae69c4",
   "metadata": {},
   "outputs": [],
   "source": []
  },
  {
   "cell_type": "code",
   "execution_count": null,
   "id": "c155d65e-9df9-4524-a2cb-9f0be5ae2be1",
   "metadata": {},
   "outputs": [],
   "source": []
  }
 ],
 "metadata": {
  "kernelspec": {
   "display_name": "Python [conda env:ncdf]",
   "language": "python",
   "name": "conda-env-ncdf-py"
  },
  "language_info": {
   "codemirror_mode": {
    "name": "ipython",
    "version": 3
   },
   "file_extension": ".py",
   "mimetype": "text/x-python",
   "name": "python",
   "nbconvert_exporter": "python",
   "pygments_lexer": "ipython3",
   "version": "3.9.15"
  }
 },
 "nbformat": 4,
 "nbformat_minor": 5
}
