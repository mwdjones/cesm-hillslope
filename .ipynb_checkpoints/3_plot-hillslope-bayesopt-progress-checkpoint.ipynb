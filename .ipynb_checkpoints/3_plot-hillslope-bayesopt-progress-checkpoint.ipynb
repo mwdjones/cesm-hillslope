{
 "cells": [
  {
   "cell_type": "code",
   "execution_count": 1,
   "id": "caa9e155-84f5-43d4-b3f1-b22e794b0e8d",
   "metadata": {},
   "outputs": [],
   "source": [
    "'''Import'''\n",
    "import numpy as np\n",
    "import matplotlib.pyplot as plt\n",
    "from matplotlib import gridspec\n",
    "import pandas as pd\n",
    "import xarray as xr\n",
    "from bayes_opt import BayesianOptimization\n",
    "from bayes_opt import UtilityFunction\n",
    "\n",
    "import time \n",
    "import seaborn as sns\n",
    "from itertools import product\n",
    "from scipy.interpolate import interp2d\n",
    "from bayes_opt.logger import JSONLogger\n",
    "from bayes_opt.event import Events\n",
    "from bayes_opt.util import load_logs\n",
    "\n",
    "from scipy.interpolate import NearestNDInterpolator\n",
    "\n",
    "from clmmodtools import *\n",
    "import shutil\n",
    "\n",
    "#ML\n",
    "from sklearn.gaussian_process import GaussianProcessRegressor "
   ]
  },
  {
   "cell_type": "code",
   "execution_count": 2,
   "id": "f1ce3fc5-c0fc-446f-858e-2670bf6a0531",
   "metadata": {},
   "outputs": [],
   "source": [
    "def blackbox_clm_wte(baseflow, fmax, slopebeta, fff, conifslope, decidslope, grassslope):\n",
    "    #change parameter in netcdf file\n",
    "    target_surface_file = '/glade/u/home/marielj/cesm-hillslope/calib-surf-files/surfdata_1x1pt_US-MBP_hist_16pfts_Irrig_CMIP6_simyr2000_HAND_3_col_hillslope_lagg_pftdist_soildepth.nc'\n",
    "    target_param_file = '/glade/u/home/marielj/cesm-hillslope/calib-surf-files/clm50_params_medlynslope_bayesopt.c240105.nc'\n",
    "    target_param1 = 'baseflow_scalar'\n",
    "    target_param2 = 'FMAX' \n",
    "    target_param3 = 'slopebeta'\n",
    "    target_param4 = 'fff'\n",
    "    target_param5 = 'medlynslope'\n",
    "    base_grass_ms = 5.25\n",
    "    base_conif_ms = 2.3499999\n",
    "    base_decid_ms = 4.44999981\n",
    "\n",
    "    #change grass parameters \n",
    "    change_pft_param(target_param5, 13, grassslope*base_grass_ms, target_param_file)\n",
    "\n",
    "    #change tree parameters\n",
    "    change_pft_param(target_param5, 2, conifslope*base_conif_ms, target_param_file) #conif\n",
    "    change_pft_param(target_param5, 8, decidslope*base_decid_ms, target_param_file) #decid\n",
    "    \n",
    "    #change surface parameters\n",
    "    change_surf_param(target_param2, fmax, 0, target_surface_file)\n",
    "\n",
    "    #change param file\n",
    "    change_param(target_param3, slopebeta, target_param_file)\n",
    "    change_param(target_param4, fff, target_param_file)\n",
    "    \n",
    "    os.chdir(CASE_DIR)\n",
    "    \n",
    "    #change namelist parameters\n",
    "    change_nl_param(target_param1, baseflow)\n",
    "\n",
    "    #run case\n",
    "    pipe = subprocess.Popen(['./case.submit'], stdout=subprocess.PIPE)\n",
    "    #result = pipe.communicate()[0]\n",
    "    #print(result)\n",
    "    #print(CASE_NAME + \" Run Complete\")\n",
    "    \n",
    "    #time delay -- check if archived data exists, if not wait 5 more seconds\n",
    "    #Have to check for the column specific run here for proper bog wte calibration\n",
    "    SCRATCH_DIR = '/glade/derecho/scratch/marielj/archive/' + CASE_NAME + '/lnd/hist/'\n",
    "    while(not os.path.exists(SCRATCH_DIR + CASE_NAME + '.clm2.h3.2015-01-01-00000.nc')):\n",
    "        time.sleep(5)\n",
    "    \n",
    "    #find WTE data in scracth directory\n",
    "    os.chdir(SCRATCH_DIR)\n",
    "    \n",
    "    #Open data h1 and h3 data files\n",
    "    coldata = xr.load_dataset(CASE_NAME + '.clm2.h3.2015-01-01-00000.nc')\n",
    "    data = xr.load_dataset(CASE_NAME + '.clm2.h2.2015-01-01-00000.nc')\n",
    "    \n",
    "    #Compute correlation metric\n",
    "    spday = 86400\n",
    "    data['ET'] = data.QVEGT + data.QSOIL\n",
    "    observedWTE = np.array(wte_calib.WTD)\n",
    "    modelWTE = -np.array(coldata.sel(column = 1).sel(time = slice(\"2015-01-01\", \"2015-12-31\")).ZWT.values)\n",
    "    observedQ = np.array(stream_calib.flow_mmday)\n",
    "    modelQ = spday*np.array(data.sel(time = slice(\"2015-01-01\", \"2015-12-31\")).QRUNOFF.values.ravel())\n",
    "    observedET = np.array(flux_calib.OET)\n",
    "    modelET = spday*np.array(data.sel(time = slice(\"2015-01-01\", \"2015-12-31\")).ET.values.ravel())\n",
    "    #Compound Lee Choi Efficiency\n",
    "    LCE = calcCompoundLCE(observedWTE, modelWTE, observedQ, modelQ, observedET, modelET)\n",
    "    \n",
    "    #remove data\n",
    "    os.remove(CASE_NAME + '.clm2.h3.2015-01-01-00000.nc')\n",
    "    os.remove(CASE_NAME + '.clm2.h2.2015-01-01-00000.nc')\n",
    "    \n",
    "    #return efficiency metric\n",
    "    return LCE\n",
    "\n",
    "acquisition_function = UtilityFunction(kind = \"ucb\", kappa = 10e2)"
   ]
  },
  {
   "cell_type": "code",
   "execution_count": 5,
   "id": "0b30662c-e672-43f9-a6e1-d65a6a6c1405",
   "metadata": {},
   "outputs": [
    {
     "data": {
      "text/plain": [
       "<bayes_opt.bayesian_optimization.BayesianOptimization at 0x14a7b41132e0>"
      ]
     },
     "execution_count": 5,
     "metadata": {},
     "output_type": "execute_result"
    }
   ],
   "source": [
    "'''Load Optimizer'''\n",
    "\n",
    "clm_optimizer = BayesianOptimization(f = blackbox_clm_wte, \n",
    "                                    pbounds = {'baseflow': (0,10),\n",
    "                                               'fmax': (0.1, 0.7), \n",
    "                                               'slopebeta' : (-10e2, 10), \n",
    "                                               'fff' : (0.1, 5), \n",
    "                                               'conifslope' : (1, 40), \n",
    "                                               'decidslope' : (1, 40), \n",
    "                                               'grassslope' : (1, 40)}, \n",
    "                                    random_state = 75832, \n",
    "                                    verbose = 0\n",
    "                                    )\n",
    "\n",
    "#logger object records optimization search\n",
    "load_logs(clm_optimizer, logs=[\"./logs/hillslope_logs_medlynslope.json\"])"
   ]
  },
  {
   "cell_type": "code",
   "execution_count": 6,
   "id": "3df63d90-6d87-4064-bce3-6461cbd2ec57",
   "metadata": {},
   "outputs": [
    {
     "name": "stdout",
     "output_type": "stream",
     "text": [
      "New optimizer is now aware of 149 points.\n"
     ]
    }
   ],
   "source": [
    "print(\"New optimizer is now aware of {} points.\".format(len(clm_optimizer.space)))"
   ]
  },
  {
   "cell_type": "code",
   "execution_count": 5,
   "id": "5e64833f-3223-43b1-b75f-b45715fb92d5",
   "metadata": {},
   "outputs": [
    {
     "data": {
      "text/plain": [
       "Text(0, 0.5, 'LCE')"
      ]
     },
     "execution_count": 5,
     "metadata": {},
     "output_type": "execute_result"
    },
    {
     "data": {
      "image/png": "[encoded data removed]",
      "text/plain": [
       "<Figure size 500x300 with 1 Axes>"
      ]
     },
     "metadata": {},
     "output_type": "display_data"
    }
   ],
   "source": [
    "#R2 values - model fit\n",
    "x = [res[\"target\"] for res in clm_optimizer.res]\n",
    "\n",
    "fig, ax = plt.subplots(1, 1, figsize = (5, 3))\n",
    "ax.plot(x)\n",
    "ax.set_xlabel('Run #')\n",
    "ax.set_ylabel(r'LCE')"
   ]
  },
  {
   "cell_type": "code",
   "execution_count": 6,
   "id": "14f489d6-c93f-423e-895e-8f75e7554890",
   "metadata": {},
   "outputs": [],
   "source": [
    "def plot_gp_2D(optimizer, aq, it, param1, param2, param1_min, param1_max, param2_min, param2_max):\n",
    "    #Setup \n",
    "    #Breakdown Data\n",
    "    max_ = optimizer.max\n",
    "    res = optimizer.res[:it]\n",
    "    x_ = np.array([r[\"params\"][param1] for r in res])\n",
    "    y_ = np.array([r[\"params\"][param2] for r in res])\n",
    "    z_ = np.array([r[\"target\"] for r in res])\n",
    "\n",
    "    #Model Results\n",
    "    ser = pd.Series(z_, index=[y_, x_])\n",
    "    Z = ser.unstack().fillna(np.nan)\n",
    "\n",
    "    #Range space\n",
    "    l1 = len(Z.columns) \n",
    "    l2 = len(Z.index)\n",
    "    x1 = np.linspace(param1_min, param1_max, l1).reshape(-1, 1)\n",
    "    x2 = np.linspace(param2_min, param2_max, l2).reshape(-1, 1)\n",
    "    xmesh, ymesh = np.meshgrid(x1, x2)\n",
    "    xy = np.array(list(zip(xmesh.reshape(l1*l2, 1), ymesh.reshape(l1*l2, 1)))).reshape(l1*l2,2)\n",
    "    \n",
    "    #Plot\n",
    "    fig, axs = plt.subplots(1, 1, constrained_layout=True, figsize=(6,6))\n",
    "\n",
    "    #Axis 1: Function Estimate\n",
    "    interp = NearestNDInterpolator(list(zip(x_, y_)), z_)\n",
    "    mesh1 = axs.pcolormesh(Z.columns, Z.index, interp(xy).reshape(l2, l1), cmap=plt.cm.coolwarm)\n",
    "    #mesh1 = axs.imshow(interpgrid, cmap=plt.cm.coolwarm, aspect = 'auto')\n",
    "    axs.scatter(x_, y_, c='white', s=80, edgecolors='black')\n",
    "    axs.scatter(x_, y_, c='red', s=80, edgecolors='black')\n",
    "    axs.scatter(max_[\"params\"][param1], max_[\"params\"][param2], s=80, c='green', edgecolors='black')\n",
    "\n",
    "    axs.set_title('Function Estimate')\n",
    "    axs.set_xlabel(param1)\n",
    "    axs.set_ylabel(param2)\n",
    "\n",
    "    axs.set_xlim(param1_min, param1_max)\n",
    "    axs.set_ylim(param2_min, param2_max)\n",
    "\n",
    "    fig.colorbar(mesh1, location = 'bottom', label = \"LCE\")\n",
    "    plt.show()"
   ]
  },
  {
   "cell_type": "code",
   "execution_count": 7,
   "id": "248d88ac-6d9a-4874-a1e1-9b40c8d0ddf6",
   "metadata": {
    "scrolled": true
   },
   "outputs": [
    {
     "ename": "ValueError",
     "evalue": "Index contains duplicate entries, cannot reshape",
     "output_type": "error",
     "traceback": [
      "\u001b[0;31m---------------------------------------------------------------------------\u001b[0m",
      "\u001b[0;31mValueError\u001b[0m                                Traceback (most recent call last)",
      "Cell \u001b[0;32mIn[7], line 1\u001b[0m\n\u001b[0;32m----> 1\u001b[0m \u001b[43mplot_gp_2D\u001b[49m\u001b[43m(\u001b[49m\u001b[43mclm_optimizer\u001b[49m\u001b[43m,\u001b[49m\u001b[43m \u001b[49m\u001b[43macquisition_function\u001b[49m\u001b[43m,\u001b[49m\u001b[43m \u001b[49m\u001b[38;5;241;43m150\u001b[39;49m\u001b[43m,\u001b[49m\u001b[43m \u001b[49m\u001b[38;5;124;43m'\u001b[39;49m\u001b[38;5;124;43mbaseflow\u001b[39;49m\u001b[38;5;124;43m'\u001b[39;49m\u001b[43m,\u001b[49m\u001b[43m \u001b[49m\u001b[38;5;124;43m'\u001b[39;49m\u001b[38;5;124;43mgrassslope\u001b[39;49m\u001b[38;5;124;43m'\u001b[39;49m\u001b[43m,\u001b[49m\u001b[43m \u001b[49m\u001b[38;5;241;43m0.1\u001b[39;49m\u001b[43m,\u001b[49m\u001b[43m \u001b[49m\u001b[38;5;241;43m5\u001b[39;49m\u001b[43m,\u001b[49m\u001b[43m \u001b[49m\u001b[38;5;241;43m0.1\u001b[39;49m\u001b[43m,\u001b[49m\u001b[43m \u001b[49m\u001b[38;5;241;43m0.7\u001b[39;49m\u001b[43m)\u001b[49m\n",
      "Cell \u001b[0;32mIn[6], line 12\u001b[0m, in \u001b[0;36mplot_gp_2D\u001b[0;34m(optimizer, aq, it, param1, param2, param1_min, param1_max, param2_min, param2_max)\u001b[0m\n\u001b[1;32m     10\u001b[0m \u001b[38;5;66;03m#Model Results\u001b[39;00m\n\u001b[1;32m     11\u001b[0m ser \u001b[38;5;241m=\u001b[39m pd\u001b[38;5;241m.\u001b[39mSeries(z_, index\u001b[38;5;241m=\u001b[39m[y_, x_])\n\u001b[0;32m---> 12\u001b[0m Z \u001b[38;5;241m=\u001b[39m \u001b[43mser\u001b[49m\u001b[38;5;241;43m.\u001b[39;49m\u001b[43munstack\u001b[49m\u001b[43m(\u001b[49m\u001b[43m)\u001b[49m\u001b[38;5;241m.\u001b[39mfillna(np\u001b[38;5;241m.\u001b[39mnan)\n\u001b[1;32m     14\u001b[0m \u001b[38;5;66;03m#Range space\u001b[39;00m\n\u001b[1;32m     15\u001b[0m l1 \u001b[38;5;241m=\u001b[39m \u001b[38;5;28mlen\u001b[39m(Z\u001b[38;5;241m.\u001b[39mcolumns) \n",
      "File \u001b[0;32m/glade/work/marielj/conda-envs/ncdf/lib/python3.9/site-packages/pandas/core/series.py:4455\u001b[0m, in \u001b[0;36mSeries.unstack\u001b[0;34m(self, level, fill_value)\u001b[0m\n\u001b[1;32m   4412\u001b[0m \u001b[38;5;250m\u001b[39m\u001b[38;5;124;03m\"\"\"\u001b[39;00m\n\u001b[1;32m   4413\u001b[0m \u001b[38;5;124;03mUnstack, also known as pivot, Series with MultiIndex to produce DataFrame.\u001b[39;00m\n\u001b[1;32m   4414\u001b[0m \n\u001b[0;32m   (...)\u001b[0m\n\u001b[1;32m   4451\u001b[0m \u001b[38;5;124;03mb    2    4\u001b[39;00m\n\u001b[1;32m   4452\u001b[0m \u001b[38;5;124;03m\"\"\"\u001b[39;00m\n\u001b[1;32m   4453\u001b[0m \u001b[38;5;28;01mfrom\u001b[39;00m \u001b[38;5;21;01mpandas\u001b[39;00m\u001b[38;5;21;01m.\u001b[39;00m\u001b[38;5;21;01mcore\u001b[39;00m\u001b[38;5;21;01m.\u001b[39;00m\u001b[38;5;21;01mreshape\u001b[39;00m\u001b[38;5;21;01m.\u001b[39;00m\u001b[38;5;21;01mreshape\u001b[39;00m \u001b[38;5;28;01mimport\u001b[39;00m unstack\n\u001b[0;32m-> 4455\u001b[0m \u001b[38;5;28;01mreturn\u001b[39;00m \u001b[43munstack\u001b[49m\u001b[43m(\u001b[49m\u001b[38;5;28;43mself\u001b[39;49m\u001b[43m,\u001b[49m\u001b[43m \u001b[49m\u001b[43mlevel\u001b[49m\u001b[43m,\u001b[49m\u001b[43m \u001b[49m\u001b[43mfill_value\u001b[49m\u001b[43m)\u001b[49m\n",
      "File \u001b[0;32m/glade/work/marielj/conda-envs/ncdf/lib/python3.9/site-packages/pandas/core/reshape/reshape.py:489\u001b[0m, in \u001b[0;36munstack\u001b[0;34m(obj, level, fill_value)\u001b[0m\n\u001b[1;32m    487\u001b[0m \u001b[38;5;28;01mif\u001b[39;00m is_1d_only_ea_dtype(obj\u001b[38;5;241m.\u001b[39mdtype):\n\u001b[1;32m    488\u001b[0m     \u001b[38;5;28;01mreturn\u001b[39;00m _unstack_extension_series(obj, level, fill_value)\n\u001b[0;32m--> 489\u001b[0m unstacker \u001b[38;5;241m=\u001b[39m \u001b[43m_Unstacker\u001b[49m\u001b[43m(\u001b[49m\n\u001b[1;32m    490\u001b[0m \u001b[43m    \u001b[49m\u001b[43mobj\u001b[49m\u001b[38;5;241;43m.\u001b[39;49m\u001b[43mindex\u001b[49m\u001b[43m,\u001b[49m\u001b[43m \u001b[49m\u001b[43mlevel\u001b[49m\u001b[38;5;241;43m=\u001b[39;49m\u001b[43mlevel\u001b[49m\u001b[43m,\u001b[49m\u001b[43m \u001b[49m\u001b[43mconstructor\u001b[49m\u001b[38;5;241;43m=\u001b[39;49m\u001b[43mobj\u001b[49m\u001b[38;5;241;43m.\u001b[39;49m\u001b[43m_constructor_expanddim\u001b[49m\n\u001b[1;32m    491\u001b[0m \u001b[43m\u001b[49m\u001b[43m)\u001b[49m\n\u001b[1;32m    492\u001b[0m \u001b[38;5;28;01mreturn\u001b[39;00m unstacker\u001b[38;5;241m.\u001b[39mget_result(\n\u001b[1;32m    493\u001b[0m     obj\u001b[38;5;241m.\u001b[39m_values, value_columns\u001b[38;5;241m=\u001b[39m\u001b[38;5;28;01mNone\u001b[39;00m, fill_value\u001b[38;5;241m=\u001b[39mfill_value\n\u001b[1;32m    494\u001b[0m )\n",
      "File \u001b[0;32m/glade/work/marielj/conda-envs/ncdf/lib/python3.9/site-packages/pandas/core/reshape/reshape.py:137\u001b[0m, in \u001b[0;36m_Unstacker.__init__\u001b[0;34m(self, index, level, constructor)\u001b[0m\n\u001b[1;32m    129\u001b[0m \u001b[38;5;28;01mif\u001b[39;00m num_cells \u001b[38;5;241m>\u001b[39m np\u001b[38;5;241m.\u001b[39miinfo(np\u001b[38;5;241m.\u001b[39mint32)\u001b[38;5;241m.\u001b[39mmax:\n\u001b[1;32m    130\u001b[0m     warnings\u001b[38;5;241m.\u001b[39mwarn(\n\u001b[1;32m    131\u001b[0m         \u001b[38;5;124mf\u001b[39m\u001b[38;5;124m\"\u001b[39m\u001b[38;5;124mThe following operation may generate \u001b[39m\u001b[38;5;132;01m{\u001b[39;00mnum_cells\u001b[38;5;132;01m}\u001b[39;00m\u001b[38;5;124m cells \u001b[39m\u001b[38;5;124m\"\u001b[39m\n\u001b[1;32m    132\u001b[0m         \u001b[38;5;124mf\u001b[39m\u001b[38;5;124m\"\u001b[39m\u001b[38;5;124min the resulting pandas object.\u001b[39m\u001b[38;5;124m\"\u001b[39m,\n\u001b[1;32m    133\u001b[0m         PerformanceWarning,\n\u001b[1;32m    134\u001b[0m         stacklevel\u001b[38;5;241m=\u001b[39mfind_stack_level(),\n\u001b[1;32m    135\u001b[0m     )\n\u001b[0;32m--> 137\u001b[0m \u001b[38;5;28;43mself\u001b[39;49m\u001b[38;5;241;43m.\u001b[39;49m\u001b[43m_make_selectors\u001b[49m\u001b[43m(\u001b[49m\u001b[43m)\u001b[49m\n",
      "File \u001b[0;32m/glade/work/marielj/conda-envs/ncdf/lib/python3.9/site-packages/pandas/core/reshape/reshape.py:189\u001b[0m, in \u001b[0;36m_Unstacker._make_selectors\u001b[0;34m(self)\u001b[0m\n\u001b[1;32m    186\u001b[0m mask\u001b[38;5;241m.\u001b[39mput(selector, \u001b[38;5;28;01mTrue\u001b[39;00m)\n\u001b[1;32m    188\u001b[0m \u001b[38;5;28;01mif\u001b[39;00m mask\u001b[38;5;241m.\u001b[39msum() \u001b[38;5;241m<\u001b[39m \u001b[38;5;28mlen\u001b[39m(\u001b[38;5;28mself\u001b[39m\u001b[38;5;241m.\u001b[39mindex):\n\u001b[0;32m--> 189\u001b[0m     \u001b[38;5;28;01mraise\u001b[39;00m \u001b[38;5;167;01mValueError\u001b[39;00m(\u001b[38;5;124m\"\u001b[39m\u001b[38;5;124mIndex contains duplicate entries, cannot reshape\u001b[39m\u001b[38;5;124m\"\u001b[39m)\n\u001b[1;32m    191\u001b[0m \u001b[38;5;28mself\u001b[39m\u001b[38;5;241m.\u001b[39mgroup_index \u001b[38;5;241m=\u001b[39m comp_index\n\u001b[1;32m    192\u001b[0m \u001b[38;5;28mself\u001b[39m\u001b[38;5;241m.\u001b[39mmask \u001b[38;5;241m=\u001b[39m mask\n",
      "\u001b[0;31mValueError\u001b[0m: Index contains duplicate entries, cannot reshape"
     ]
    }
   ],
   "source": [
    "plot_gp_2D(clm_optimizer, acquisition_function, 150, 'baseflow', 'grassslope', 0.1, 5, 0.1, 0.7)"
   ]
  },
  {
   "cell_type": "code",
   "execution_count": 8,
   "id": "9fe3e7f3-fa94-4944-97ca-c6812c48c80e",
   "metadata": {},
   "outputs": [
    {
     "data": {
      "text/plain": [
       "{'target': 0.2658051303740743,\n",
       " 'params': {'baseflow': 10.0,\n",
       "  'conifslope': 24.947927467900808,\n",
       "  'decidslope': 22.50897824481162,\n",
       "  'fff': 0.1,\n",
       "  'fmax': 0.1,\n",
       "  'grassslope': 40.0,\n",
       "  'slopebeta': -863.5514188245774}}"
      ]
     },
     "execution_count": 8,
     "metadata": {},
     "output_type": "execute_result"
    }
   ],
   "source": [
    "clm_optimizer.max"
   ]
  },
  {
   "cell_type": "markdown",
   "id": "5ce9d04e-9d2a-421c-b746-6967c794520e",
   "metadata": {},
   "source": [
    "Plot iteration of hillslope"
   ]
  },
  {
   "cell_type": "code",
   "execution_count": null,
   "id": "6243718d-1a15-4f6a-8622-2e2d6269e25a",
   "metadata": {},
   "outputs": [],
   "source": [
    "'''Load calibration WTE data'''\n",
    "calib_year = 2017\n",
    "infile1  =\"https://pasta.lternet.edu/package/data/eml/edi/562/2/671f15337a677da71852de506a8d9b05\".strip() \n",
    "infile1  = infile1.replace(\"https://\",\"http://\")\n",
    "                 \n",
    "dt1 =pd.read_csv(infile1, skiprows = 1, sep = \",\",\n",
    "                 names=[\"PEATLAND\", \"DATE\", \"WTE\", \"FLAG\"],\n",
    "                 parse_dates=['DATE'], \n",
    "                 na_values={'WTE':['NA',], 'FLAG':['NA',]})\n",
    "\n",
    "# Coerce the data into the types specified in theA metadata  \n",
    "dt1.PEATLAND = dt1.PEATLAND.astype('category') \n",
    "\n",
    "dt1.WTE = pd.to_numeric(dt1.WTE, errors ='coerce')  \n",
    "dt1.FLAG = dt1.FLAG.astype('category') \n",
    "\n",
    "dt1['WTD'] =  -(422.06 - dt1.WTE)\n",
    "\n",
    "# Pull out calib year\n",
    "wte_calib = dt1[dt1.DATE.dt.year == calib_year]\n",
    "wte_calib = wte_calib[wte_calib.PEATLAND == 'S2'].reset_index(drop = True)\n",
    "\n",
    "# Pull out all data\n",
    "wte_all = dt1[(dt1.DATE.dt.year > 2011) & (dt1.DATE.dt.year < 2018)]\n",
    "wte_all = wte_all[wte_all.PEATLAND == 'S2'].reset_index(drop = True)\n",
    "\n",
    "'''Load calibration streamflow data'''\n",
    "dt2 =pd.read_csv('./rawdata/Streamflow_daily.csv', \n",
    "                 parse_dates=['Date'])\n",
    "\n",
    "# Coerce the data into the types specified in the metadata  \n",
    "dt2.Watershed = dt2.Watershed.astype('category') \n",
    "\n",
    "#Convert cm/day to mm/day\n",
    "dt2['flow_mmday'] = 10*dt2['Flow (cm/day)']\n",
    "\n",
    "# Pull out 2017 year\n",
    "stream_calib = dt2[dt2.Date.dt.year == calib_year]\n",
    "stream_calib = stream_calib[stream_calib.Watershed == 'S2'].reset_index(drop = True)\n",
    "\n",
    "# Pull out all data time range\n",
    "stream_all = dt2[(dt2.Date.dt.year > 2011) & (dt2.Date.dt.year < 2018)]\n",
    "stream_all = stream_all[stream_all.Watershed == 'S2'].reset_index(drop = True)\n",
    "\n",
    "'''Load Calibration Latent Heat Flux Data'''\n",
    "dt3 = xr.load_dataset('/glade/derecho/scratch/swensosc/Ameriflux/AMF_US-MBP_set.nc').to_dataframe().reset_index()\n",
    "\n",
    "#Replace Nan\n",
    "flux = dt3.replace(-9999, np.nan)\n",
    "flux['time'] = pd.to_datetime(flux.time).dt.round('15min')\n",
    "#convert LE to AET\n",
    "lhv = 2.5e6 #J/kg latent heat of vaporization\n",
    "sphh = 1800 # seconds per half hour\n",
    "flux['OET'] = (flux.LE/lhv) * sphh #et in mm/half hour\n",
    "#density conversion and mm to m cancel out\n",
    "\n",
    "#resample to daily timestep\n",
    "flux_daily = flux.set_index('time').resample('D').mean().reset_index() #et in mm/day\n",
    "flux_daily['OET'] = flux_daily['OET']*24 #half hours to daily\n",
    "flux_daily = flux_daily[(flux_daily.time.dt.year > 2011) & (flux_daily.time.dt.year < 2018)].reset_index(drop = True)\n",
    "\n",
    "#pull out calibration data\n",
    "flux_calib = flux_daily[flux_daily.time.dt.year == calib_year].reset_index(drop = True)"
   ]
  },
  {
   "cell_type": "code",
   "execution_count": null,
   "id": "fc833b49-c775-490e-b4a7-5a39fbe26aa8",
   "metadata": {},
   "outputs": [],
   "source": [
    "CASE_NAME = 'hillslope-bayes-opt-medlynslope'\n",
    "data = xr.open_mfdataset('/glade/derecho/scratch/marielj/archive/' + CASE_NAME + '/lnd/hist/' + CASE_NAME + '.clm2.h2.' + str(calib_year) + '-01-01-00000.nc')\n",
    "coldata = xr.open_mfdataset('/glade/derecho/scratch/marielj/archive/' + CASE_NAME + '/lnd/hist/' + CASE_NAME + '.clm2.h3.' + str(calib_year) + '-01-01-00000.nc')"
   ]
  },
  {
   "cell_type": "code",
   "execution_count": null,
   "id": "ee77c140-f4c7-4f17-a3ce-d3733b6d57ab",
   "metadata": {},
   "outputs": [],
   "source": [
    "spday = 86400\n",
    "fig, ax = plt.subplots(3, 1, figsize = (6, 6), \n",
    "                          sharex = True)\n",
    "ax[0].plot(wte_calib.WTD)\n",
    "ax[0].plot(-coldata.sel(column = 1).ZWT)\n",
    "ax[0].set_ylabel('WTD [m]')\n",
    "ax[1].plot(stream_calib.flow_mmday)\n",
    "ax[1].plot(spday*data.QRUNOFF)\n",
    "ax[1].set_ylabel('Streamflow [mm/day]')\n",
    "ax[2].plot(flux_calib.OET)\n",
    "ax[2].plot(spday*data.QVEGT)\n",
    "ax[2].set_ylabel('ET [mm/day]')"
   ]
  },
  {
   "cell_type": "markdown",
   "id": "1d6877ba-bde3-4bde-928d-038b21b573f8",
   "metadata": {},
   "source": [
    "# Change param file for final run"
   ]
  },
  {
   "cell_type": "code",
   "execution_count": null,
   "id": "1b605d77-667a-4ca4-9b4e-d23386745c5e",
   "metadata": {},
   "outputs": [],
   "source": [
    "original_surface_file = '/glade/u/home/marielj/cesm-hillslope/calib-surf-files/surfdata_1x1pt_US-MBP_hist_16pfts_Irrig_CMIP6_simyr2000_HAND_3_col_hillslope_lagg_pftdist_soildepth.nc'\n",
    "original_param_file = '/glade/u/home/marielj/cesm-hillslope/calib-surf-files/clm50_params.c240105.nc'\n",
    "\n",
    "target_surface_file = '/glade/u/home/marielj/cesm-hillslope/calib-surf-files/surfdata_1x1pt_US-MBP_hist_16pfts_Irrig_CMIP6_simyr2000_HAND_3_col_hillslope_medlynmods.nc'\n",
    "target_param_file = '/glade/u/home/marielj/cesm-hillslope/calib-param-files/clm50_params.c240105_hillslope_medlynmods.nc'\n",
    "\n",
    "#Create copies of the original surface file in the calib-surf-files and calib-param-files folder\n",
    "shutil.copyfile(original_surface_file, target_surface_file)\n",
    "shutil.copyfile(original_param_file, target_param_file)"
   ]
  },
  {
   "cell_type": "code",
   "execution_count": null,
   "id": "7ebfb8ab-7d16-4e23-88bf-53d6ac33b845",
   "metadata": {
    "scrolled": true
   },
   "outputs": [],
   "source": [
    "base_grass_ms = 5.25\n",
    "base_conif_ms = 2.3499999\n",
    "base_decid_ms = 4.44999981\n",
    "\n",
    "change_surf_param('FMAX' , clm_optimizer.max['params']['fmax'], 0, target_surface_file)\n",
    "change_param('slopebeta', clm_optimizer.max['params']['slopebeta'], target_param_file)\n",
    "change_param('fff', clm_optimizer.max['params']['fff'], target_param_file)\n",
    "change_pft_param('medlynslope', 13, clm_optimizer.max['params']['grassslope']*base_grass_ms, target_param_file)\n",
    "change_pft_param('medlynslope', 2, clm_optimizer.max['params']['conifslope']*base_conif_ms, target_param_file) #conif\n",
    "change_pft_param('medlynslope', 8, clm_optimizer.max['params']['decidslope']*base_decid_ms, target_param_file) #decid"
   ]
  },
  {
   "cell_type": "code",
   "execution_count": null,
   "id": "18a8f717-294b-42d1-b72f-af867d235fba",
   "metadata": {},
   "outputs": [],
   "source": [
    "#Check that changes went through\n",
    "test_params = xr.load_dataset(target_param_file)\n",
    "\n",
    "print(test_params.slopebeta)\n",
    "print(test_params.fff)"
   ]
  },
  {
   "cell_type": "code",
   "execution_count": null,
   "id": "f01d2eeb-fe3b-4902-a232-07d1cd941066",
   "metadata": {},
   "outputs": [],
   "source": []
  }
 ],
 "metadata": {
  "kernelspec": {
   "display_name": "Python [conda env:ncdf]",
   "language": "python",
   "name": "conda-env-ncdf-py"
  },
  "language_info": {
   "codemirror_mode": {
    "name": "ipython",
    "version": 3
   },
   "file_extension": ".py",
   "mimetype": "text/x-python",
   "name": "python",
   "nbconvert_exporter": "python",
   "pygments_lexer": "ipython3",
   "version": "3.9.15"
  }
 },
 "nbformat": 4,
 "nbformat_minor": 5
}
