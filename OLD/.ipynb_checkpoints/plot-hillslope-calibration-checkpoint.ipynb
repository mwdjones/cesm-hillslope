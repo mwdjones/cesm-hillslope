{
 "cells": [
  {
   "cell_type": "code",
   "execution_count": null,
   "id": "44fd2910-2450-46a1-ac86-534e65078a30",
   "metadata": {},
   "outputs": [],
   "source": [
    "import numpy as np\n",
    "import matplotlib.pyplot as plt\n",
    "from matplotlib import gridspec\n",
    "import pandas as pd\n",
    "import xarray as xr\n",
    "import time\n",
    "import seaborn as sns\n",
    "from itertools import product\n",
    "from scipy.interpolate import interp2d\n",
    "import json\n",
    "from glob import glob\n",
    "import scipy.stats\n",
    "\n",
    "from bayes_opt import BayesianOptimization\n",
    "from bayes_opt import UtilityFunction\n",
    "from sklearn.gaussian_process import GaussianProcessRegressor \n",
    "from scipy.interpolate import griddata"
   ]
  },
  {
   "cell_type": "code",
   "execution_count": null,
   "id": "0279f3e9-156e-4f5a-8132-12b01607a35d",
   "metadata": {
    "tags": []
   },
   "outputs": [],
   "source": [
    "'''Load calibration streamflow data'''\n",
    "dt2 =pd.read_csv('./rawdata/Streamflow_daily.csv', \n",
    "                 parse_dates=['Date'])\n",
    "\n",
    "# Coerce the data into the types specified in the metadata  \n",
    "dt2.Watershed = dt2.Watershed.astype('category') \n",
    "\n",
    "# Pull out 2017 year\n",
    "stream = dt2[dt2.Date.dt.year == 2015]\n",
    "stream = stream[stream.Watershed == 'S2'].reset_index(drop = True)\n",
    "\n",
    "#Convert cm/day to mm/sec\n",
    "m = 10/(60*60*24)\n",
    "stream['Flow_mms'] = m*stream['Flow (cm/day)']\n",
    "\n",
    "'''Load calibration WTE data'''\n",
    "infile1  =\"https://pasta.lternet.edu/package/data/eml/edi/562/2/671f15337a677da71852de506a8d9b05\".strip() \n",
    "infile1  = infile1.replace(\"https://\",\"http://\")\n",
    "                 \n",
    "dt1 =pd.read_csv(infile1, skiprows = 1, sep = \",\",\n",
    "                 names=[\"PEATLAND\", \"DATE\", \"WTE\", \"FLAG\"],\n",
    "                 parse_dates=['DATE'], \n",
    "                 na_values={'WTE':['NA',], 'FLAG':['NA',]})\n",
    "\n",
    "# Coerce the data into the types specified in the metadata  \n",
    "dt1.PEATLAND = dt1.PEATLAND.astype('category') \n",
    "\n",
    "dt1.WTE = pd.to_numeric(dt1.WTE, errors ='coerce')  \n",
    "dt1.FLAG = dt1.FLAG.astype('category') \n",
    "\n",
    "# Pull out 2017 year\n",
    "wte =  dt1[dt1.DATE.dt.year == 2015]\n",
    "wte = wte[wte.PEATLAND == 'S2'].reset_index(drop = True)\n",
    "wte['WTD'] = -(422.0 - wte.WTE)"
   ]
  },
  {
   "cell_type": "code",
   "execution_count": null,
   "id": "26dba0c0-5af5-4ad3-987b-55c126f111c2",
   "metadata": {},
   "outputs": [],
   "source": [
    "'''Load SPRUCE and CLM5.0 data'''\n",
    "SPRUCEuncalib = xr.open_mfdataset('/glade/u/home/marielj/peatlandMIP/ELM-SPRUCE/initRUN/TEST_US-SPR_ICB20TRCNPRDCTCBC/run/TEST_US-SPR_ICB20TRCNPRDCTCBC.clm2.h0.*-01-01-00000.nc', \n",
    "                            parallel = True)\n",
    "CLMuncalib = xr.open_mfdataset('/glade/u/home/marielj/peatlandMIP/CLM5/initRUNS_long/mbp_tuning_spinup_grass_CONTROL_v0.clm2.h1.*-01-01-00000.nc', \n",
    "                            parallel = True)"
   ]
  },
  {
   "cell_type": "code",
   "execution_count": null,
   "id": "7f25b4c9-7316-4a1e-aad7-d2b18d2ca6af",
   "metadata": {
    "jupyter": {
     "source_hidden": true
    },
    "tags": []
   },
   "outputs": [],
   "source": [
    "def runHillslope(slatop, leaflong, frootleaf, slopebeta, fff, baseflow, fmax, remove = False):\n",
    "    #change parameter in netcdf file\n",
    "    target_param_file = '/glade/work/marielj/inputdata/lnd/clm2/paramdata/clm5_params_augmented_base.c171117.nc'\n",
    "    pft = 12 #arctic grass  \n",
    "    \n",
    "    #PFT Params\n",
    "    change_pft_param('slatop', pft, slatop, target_param_file)\n",
    "    change_pft_param('leaf_long', pft, leaflong, target_param_file)\n",
    "    change_pft_param('froot_leaf', pft, frootleaf, target_param_file)\n",
    "    \n",
    "    #NON PFT Params\n",
    "    change_param('slopebeta', slopebeta, target_param_file)\n",
    "    change_param('fff', fff, target_param_file)    \n",
    "    \n",
    "    os.chdir(CASE_DIR)\n",
    "    \n",
    "    #Namelist Params\n",
    "    change_nl_param('soil_fmax', fmax)\n",
    "    change_nl_param('baseflow_scalar', baseflow)\n",
    "    \n",
    "    #run case\n",
    "    pipe = subprocess.Popen(['qcmd', '-- ./case.submit'], stdout=subprocess.PIPE)\n",
    "    #result = pipe.communicate()[0]\n",
    "    #print(result)\n",
    "    #print(CASE_NAME + \" Run Complete\")\n",
    "    \n",
    "    #time delay -- check if archived data exists, if not wait 5 more seconds\n",
    "    SCRATCH_DIR = '/glade/scratch/marielj/archive/' + CASE_NAME + '/lnd/hist/'\n",
    "    while(not os.path.exists(SCRATCH_DIR + CASE_NAME + '.clm2.h3.2017-01-01-00000.nc')):\n",
    "        time.sleep(5)\n",
    "    \n",
    "    #find WTE data in scracth directory\n",
    "    os.chdir(SCRATCH_DIR)\n",
    "    \n",
    "    #Open data h1 data file\n",
    "    avgfiles = glob(SCRATCH_DIR + 'test-hillslope-mct-srof.clm2.h2.*.nc')\n",
    "    colfiles = glob(SCRATCH_DIR + 'test-hillslope-mct-srof.clm2.h3.*.nc')\n",
    "    \n",
    "    avgdata = xr.open_mfdataset(avgfiles, parallel = True)\n",
    "    coldata = xr.open_mfdataset(colfiles, parallel = True)\n",
    "    \n",
    "    #remove data\n",
    "    if(remove):\n",
    "        os.remove(CASE_NAME + '.clm2.h3.2017-01-01-00000.nc')\n",
    "    \n",
    "    #return average annual WTE\n",
    "    return avgdata, coldata"
   ]
  },
  {
   "cell_type": "code",
   "execution_count": null,
   "id": "91fc7487-b136-4a03-a123-37218b2a5a7e",
   "metadata": {},
   "outputs": [],
   "source": [
    "'''Functions'''\n",
    "def nse(predictions, targets):\n",
    "    return (1-(np.sum((targets-predictions)**2))/np.sum((targets-np.mean(targets))**2))\n",
    "\n",
    "def rsquared(x, y):\n",
    "    slope, intercept, r_value, p_value, std_err = scipy.stats.linregress(x, y)\n",
    "    return r_value**2\n",
    "\n",
    "def plotAvgHillslope(d, stream, spruce = None, clm = None, lab = None):\n",
    "    fig, [ax1, ax2] = plt.subplots(1, 2, figsize = (10, 3), \n",
    "                           sharey = True)\n",
    "    meas = np.array(stream['Flow_mms'])\n",
    "    mod = np.array(d.QRUNOFF[d.time.dt.year == 2015]).reshape(365)\n",
    "    \n",
    "    #Plot 1 - Timeseries\n",
    "    #Plot CLM hillslope - watershed level\n",
    "    ax1.plot(mod, color = 'blue', alpha = 0.7, label = 'Hillslope Model')\n",
    "\n",
    "    #Plot Marcell data\n",
    "    ax1.plot(meas, color = 'silver',  label ='MEF')\n",
    "    \n",
    "    #Plot CLM-SPRUCE data\n",
    "    if(spruce):\n",
    "        sp = np.array(spruce.QRUNOFF[spruce.time.dt.year == 2015].isel(lndgrid=[1])).reshape(365)\n",
    "        ax1.plot(sp, color = 'orange', alpha = 0.7, label = 'CLM-SPRUCE')\n",
    "        \n",
    "    if(clm):\n",
    "        cl = np.array(clm.QRUNOFF[clm.time.dt.year == 2015]).reshape(365)\n",
    "        ax1.plot(cl, color = 'teal', alpha = 0.7, label = 'CLM 5.0')\n",
    "\n",
    "    #Plot spcifics\n",
    "    ax1.set_xlabel('Date of the Year (2015)')\n",
    "    ax1.set_ylabel('Total Liquid Runoff, modelled [mm/s]]')\n",
    "    ax1.set_xlim(0, 365)\n",
    "    ax1.set_ylim(0, 5e-4)\n",
    "    \n",
    "    #Plot 2 - Comparison\n",
    "    ax2.scatter(meas, mod, color = 'blue', alpha = 0.5)\n",
    "    ax2.scatter(meas, sp, color = 'orange', alpha = 0.5)\n",
    "    ax2.axline([0,0], slope = 1, color = 'silver', zorder = -2)\n",
    "    ax2.set_xlabel('Streamflow, measured [mm/s]')\n",
    "    ax2.set_xlim(0, 5e-4)\n",
    "    ax2.set_ylim(0, 5e-4)\n",
    "    #ax2.set_aspect('equal')\n",
    "    \n",
    "    nse_plot = nse(mod, meas)\n",
    "    nse_plot_spruce = nse(sp, meas)\n",
    "    ax2.text(1.5e-4, 5e-5, r'$NSE_{hillslope}$: ' + str(round(nse_plot, 2)) + r', $NSE_{spruce}$: ' + str(round(nse_plot_spruce, 2)))\n",
    "    r2_plot = rsquared(meas, mod)\n",
    "    r2_plot_spruce = rsquared(meas, sp)\n",
    "    ax2.text(1.5e-4, 1e-4, r'$R_{hillslope}^2$: ' + str(round(r2_plot, 2)) + r', $R_{spruce}^2$: ' + str(round(r2_plot_spruce, 2)))\n",
    "\n",
    "    if(lab):        \n",
    "        plt.suptitle('CLM Hillslope Model -- Watershed Scale, ' + lab)\n",
    "    else:\n",
    "        plt.suptitle('CLM Hillslope Model -- Watershed Scale')\n",
    "    ax1.legend(bbox_to_anchor=(0.5, 1.4))\n",
    "    plt.show()"
   ]
  },
  {
   "cell_type": "code",
   "execution_count": null,
   "id": "caf901d9-5303-4ce7-ba46-43d604feb938",
   "metadata": {},
   "outputs": [],
   "source": [
    "'''CLM UNCALIBRATED CASE - Lagg'''\n",
    "#Import\n",
    "file_dir = '/glade/scratch/marielj/archive/test-hillslope-mct-srof-lagg/lnd/hist/'\n",
    "files = glob(file_dir + 'test-hillslope-mct-srof-lagg.clm2.h2.*.nc')\n",
    "colfiles = glob(file_dir + 'test-hillslope-mct-srof-lagg.clm2.h3.*.nc')\n",
    "\n",
    "data = xr.open_mfdataset(files, parallel = True)\n",
    "coldata = xr.open_mfdataset(colfiles, parallel = True)"
   ]
  },
  {
   "cell_type": "code",
   "execution_count": null,
   "id": "363c6ed1-1a42-490f-a256-6315ee5ae91e",
   "metadata": {},
   "outputs": [],
   "source": [
    "#Plot Column Data\n",
    "plotAvgHillslope(data, stream, SPRUCEuncalib)"
   ]
  },
  {
   "cell_type": "code",
   "execution_count": null,
   "id": "fa2b4957-2e28-441e-abdf-f6d8e8c4a8c2",
   "metadata": {},
   "outputs": [],
   "source": [
    "'''CLM MEASURED PARAMS'''\n",
    "# h_pftndx - the pft associated with each column (currently set to 7-lagg, 10-bog, 7-uplands)\n",
    "# h_bedrock - the depth to bedrock in each column (curently set to 8m-lagg, 8m-bog, 8m-uplands)\n",
    "#Import\n",
    "file_dir = '/glade/scratch/marielj/archive/test-hillslope-mct-srof-measparam/lnd/hist/'\n",
    "files = glob(file_dir + 'test-hillslope-mct-srof-measparam.clm2.h2.*.nc')\n",
    "colfiles = glob(file_dir + 'test-hillslope-mct-srof-measparam.clm2.h3.*.nc')\n",
    "\n",
    "dataMeas = xr.open_mfdataset(files)\n",
    "coldataMeas = xr.open_mfdataset(colfiles)"
   ]
  },
  {
   "cell_type": "code",
   "execution_count": null,
   "id": "8ebefdec-b764-48d2-ba66-584a4fa65fcc",
   "metadata": {},
   "outputs": [],
   "source": [
    "#Plot Column Data\n",
    "plotAvgHillslope(dataMeas, stream, SPRUCEuncalib)"
   ]
  },
  {
   "cell_type": "code",
   "execution_count": null,
   "id": "889f87a8-4dea-496a-9d77-5a88f3af2135",
   "metadata": {},
   "outputs": [],
   "source": [
    "'''REMOVE OVERLAND FLOW'''\n",
    "#FMAX = 0 using namelist options\n",
    "case_name = 'hillslope_tuning_nospinup_FMAX_v7'\n",
    "file_dir = '/glade/scratch/marielj/archive/hillslope_tuning_nospinup_FMAX_v7/lnd/hist/'\n",
    "files = glob(file_dir + case_name + '.clm2.h2.*.nc')\n",
    "colfiles = glob(file_dir + case_name + '.clm2.h3.*.nc')\n",
    "\n",
    "fmaxdata = xr.open_mfdataset(files)\n",
    "fmaxcoldata = xr.open_mfdataset(colfiles)"
   ]
  },
  {
   "cell_type": "code",
   "execution_count": null,
   "id": "ff598252-3ea4-49f7-8582-2884fda24957",
   "metadata": {
    "tags": []
   },
   "outputs": [],
   "source": [
    "'''SURFACE file params'''\n",
    "surf = xr.load_dataset('/glade/work/marielj/inputdata/lnd/clm2/surfdata_map/hillslope/surfdata_1x1pt_US-MBP_hist_16pfts_Irrig_CMIP6_simyr2000_HAND_3_col_hillslope_lagg_pft_soildepth_mineral_nofmax.nc')\n",
    "#surf.FMAX[0] = 0\n",
    "#surf.to_netcdf('/glade/work/marielj/inputdata/lnd/clm2/surfdata_map/hillslope/surfdata_1x1pt_US-MBP_hist_16pfts_Irrig_CMIP6_simyr2000_HAND_3_col_hillslope_lagg_pft_soildepth_mineral_nofmax.nc')"
   ]
  },
  {
   "cell_type": "code",
   "execution_count": null,
   "id": "6316338d-2126-4810-befc-a60d95364d4f",
   "metadata": {},
   "outputs": [],
   "source": [
    "plotAvgHillslope(fmaxdata, stream, SPRUCEuncalib)"
   ]
  },
  {
   "cell_type": "code",
   "execution_count": null,
   "id": "cb02de88-58e9-4f12-bc49-1cf6c9fac985",
   "metadata": {},
   "outputs": [],
   "source": [
    "#FMAX = 0 using surface file options\n",
    "file_dir = '/glade/scratch/marielj/archive/test-hillslope-mct-srof-fmax/lnd/hist/'\n",
    "case_name = 'test-hillslope-mct-srof-fmax'\n",
    "files = glob(file_dir + case_name + '.clm2.h2.*.nc')\n",
    "colfiles = glob(file_dir + case_name + '.clm2.h3.*.nc')\n",
    "\n",
    "fmaxsurfdata = xr.open_mfdataset(files)\n",
    "fmaxsurfcoldata = xr.open_mfdataset(colfiles)"
   ]
  },
  {
   "cell_type": "code",
   "execution_count": null,
   "id": "b94070fd-8bbb-4979-bb5c-a567c1206d0b",
   "metadata": {
    "tags": []
   },
   "outputs": [],
   "source": [
    "plotAvgHillslope(fmaxsurfdata, stream)"
   ]
  },
  {
   "cell_type": "code",
   "execution_count": null,
   "id": "664c1eb5-2ed9-4dbc-8d94-ef448c4b2931",
   "metadata": {},
   "outputs": [],
   "source": [
    "#Mineral soils\n",
    "file_dir = '/glade/scratch/marielj/archive/test-hillslope-mct-srof-mineral/lnd/hist/'\n",
    "case_name = 'test-hillslope-mct-srof-mineral'\n",
    "files = glob(file_dir + case_name + '.clm2.h2.*.nc')\n",
    "colfiles = glob(file_dir + case_name + '.clm2.h3.*.nc')\n",
    "\n",
    "mineralsurfdata = xr.open_mfdataset(files)\n",
    "mineralsurfcoldata = xr.open_mfdataset(colfiles)"
   ]
  },
  {
   "cell_type": "code",
   "execution_count": null,
   "id": "212566f7-aea0-4535-a70f-037375d8e83e",
   "metadata": {
    "tags": []
   },
   "outputs": [],
   "source": [
    "plotAvgHillslope(mineralsurfdata, stream, SPRUCEuncalib)"
   ]
  },
  {
   "cell_type": "code",
   "execution_count": null,
   "id": "dc89b97f-34df-48d8-aee7-07045c2355c6",
   "metadata": {},
   "outputs": [],
   "source": [
    "#4 col original file\n",
    "file_dir = '/glade/scratch/marielj/archive/test-hillslope-mct-srof/lnd/hist/'\n",
    "case_name = 'test-hillslope-mct-srof'\n",
    "files = glob(file_dir + case_name + '.clm2.h2.*.nc')\n",
    "colfiles = glob(file_dir + case_name + '.clm2.h3.*.nc')\n",
    "\n",
    "colfoursurfdata = xr.open_mfdataset(files)\n",
    "colfoursurfcoldata = xr.open_mfdataset(colfiles)"
   ]
  },
  {
   "cell_type": "code",
   "execution_count": null,
   "id": "9ea77f35-cfa9-4cfd-b7fa-7b1bfd271e62",
   "metadata": {},
   "outputs": [],
   "source": [
    "plotAvgHillslope(colfoursurfdata, stream, SPRUCEuncalib)"
   ]
  },
  {
   "cell_type": "markdown",
   "id": "9adecaab-3e58-457b-b029-9b01b98ec20f",
   "metadata": {
    "jp-MarkdownHeadingCollapsed": true,
    "tags": []
   },
   "source": [
    "## 1D Bayesian Parameter Search (FMAX)"
   ]
  },
  {
   "cell_type": "code",
   "execution_count": null,
   "id": "4f4a6ca2-af0e-4f7c-8d95-d1874690b110",
   "metadata": {},
   "outputs": [],
   "source": [
    "from clmmodtools import *"
   ]
  },
  {
   "cell_type": "code",
   "execution_count": null,
   "id": "927b30e4-c6e0-4804-954f-d38374f3ba27",
   "metadata": {
    "tags": []
   },
   "outputs": [],
   "source": [
    "#start with single parameter variation\n",
    "def blackbox_clm(x):\n",
    "    #change parameter in netcdf file\n",
    "    target_surface_file = '/glade/work/marielj/inputdata/lnd/clm2/surfdata_map/hillslope/surfdata_1x1pt_US-MBP_hist_16pfts_Irrig_CMIP6_simyr2000_HAND_3_col_hillslope_lagg_pft_soildepth_nofmax.nc'\n",
    "    target_param = 'FMAX'\n",
    "    \n",
    "    change_surf_param(target_param, x, 0, target_surface_file)\n",
    "    \n",
    "    os.chdir(CASE_DIR)\n",
    "    \n",
    "    #Build case\n",
    "    #pipe = subprocess.Popen(['qcmd', ' -- ./case.build'], stdout=subprocess.PIPE)\n",
    "    \n",
    "    #run case\n",
    "    pipe = subprocess.Popen(['./case.submit'], stdout=subprocess.PIPE)\n",
    "    #result = pipe.communicate()[0]\n",
    "    #print(result)\n",
    "    #print(CASE_NAME + \" Run Complete\")\n",
    "    \n",
    "    #time delay -- check if archived data exists, if not wait 5 more seconds\n",
    "    SCRATCH_DIR = '/glade/scratch/marielj/archive/' + CASE_NAME + '/lnd/hist/'\n",
    "    while(not os.path.exists(SCRATCH_DIR + CASE_NAME + '.clm2.h2.2015-01-01-00000.nc')):\n",
    "        time.sleep(5)\n",
    "    \n",
    "    #find stream data in scrath directory\n",
    "    os.chdir(SCRATCH_DIR)\n",
    "    \n",
    "    #Open data h2 (daily but no column) data file\n",
    "    dat = xr.load_dataset(CASE_NAME + '.clm2.h2.2015-01-01-00000.nc')\n",
    "    mean_stream = -np.mean(dat.QRUNOFF.values)\n",
    "    #remove data\n",
    "    os.remove(CASE_NAME + '.clm2.h2.2015-01-01-00000.nc')\n",
    "    \n",
    "    #mean_wte = np.double(416.000) - mean_wtd\n",
    "    \n",
    "    #return average annual WTE\n",
    "    return mean_stream"
   ]
  },
  {
   "cell_type": "code",
   "execution_count": null,
   "id": "ea616ca3-d252-4c54-b728-1a3084455ece",
   "metadata": {},
   "outputs": [],
   "source": [
    "def posterior(optimizer, x_obs, y_obs, grid):\n",
    "    optimizer._gp.fit(x_obs, y_obs)\n",
    "\n",
    "    mu, sigma = optimizer._gp.predict(grid, return_std=True)\n",
    "    return mu, sigma"
   ]
  },
  {
   "cell_type": "code",
   "execution_count": null,
   "id": "61437fad-f585-43a8-9deb-87e2a50f07ca",
   "metadata": {},
   "outputs": [],
   "source": [
    "def plot_gp_adapted(optimizer, x, param):\n",
    "    fig = plt.figure(figsize=(8, 5))\n",
    "    steps = len(optimizer.space)\n",
    "    fig.suptitle(\n",
    "        'Gaussian Process and Utility Function After {} Steps'.format(steps),\n",
    "        fontdict={'size':30}\n",
    "    )\n",
    "    \n",
    "    #Setup grid\n",
    "    gs = gridspec.GridSpec(2, 1, height_ratios=[3, 1]) \n",
    "    axis = plt.subplot(gs[0])\n",
    "    acq = plt.subplot(gs[1])\n",
    "    \n",
    "    #Observation points \n",
    "    x_obs = np.array([[res[\"params\"][param]] for res in optimizer.res])\n",
    "    y_obs = np.array([res[\"target\"] for res in optimizer.res])\n",
    "    \n",
    "    #Interpolate the confidence interval using skilearn\n",
    "    mu, sigma = posterior(optimizer, x_obs, y_obs, x)\n",
    "    axis.plot(x_obs.flatten(), y_obs, 'D', markersize=8, label=u'Observations', color='r')\n",
    "    axis.plot(x, mu, '--', color='k', label='Prediction')\n",
    "\n",
    "    #Plot the Confidence interval using error from posterior simulation\n",
    "    axis.fill(np.concatenate([x, x[::-1]]), \n",
    "              np.concatenate([mu - 1.9600 * sigma, (mu + 1.9600 * sigma)[::-1]]),\n",
    "        alpha=.6, fc='c', ec='None', label='95% confidence interval')\n",
    "    \n",
    "    axis.set_ylim((None, None))\n",
    "    axis.set_ylabel('Total Streamflow Runoff', fontdict={'size':20})\n",
    "    axis.set_xlabel(param, fontdict={'size':20})\n",
    "    \n",
    "    utility_function = UtilityFunction(kind=\"ucb\", kappa = 0.1)\n",
    "    utility = utility_function.utility(x, optimizer._gp, 0)\n",
    "    acq.plot(x, utility, label='Utility Function', color='purple')\n",
    "    acq.plot(x[np.argmax(utility)], np.max(utility), '*', markersize=15, \n",
    "             label=u'Next Best Guess', markerfacecolor='gold', markeredgecolor='k', markeredgewidth=1)\n",
    "    #acq.set_ylim((0, np.max(utility) + 0.5))\n",
    "    acq.set_ylabel('Utility', fontdict={'size':20})\n",
    "    acq.set_xlabel(param, fontdict={'size':20})\n",
    "    \n",
    "    axis.legend(loc=2, bbox_to_anchor=(1.01, 1), borderaxespad=0.)\n",
    "    acq.legend(loc=2, bbox_to_anchor=(1.01, 1), borderaxespad=0.)\n",
    "    \n",
    "    plt.savefig('/glade/u/home/marielj/cesm-hillslope/calibration-runs/bayes-opt/bayesopt_' + param + '_1d_probing.pdf')"
   ]
  },
  {
   "cell_type": "code",
   "execution_count": null,
   "id": "82a564f9-071b-4aad-b158-3756277b37a2",
   "metadata": {},
   "outputs": [],
   "source": [
    "# Setup case\n",
    "CASE_NAME = 'test-hillslope-mct-srof-fmax'\n",
    "CASE_DIR = '/glade/u/home/marielj/cesm-hillslope/' + CASE_NAME"
   ]
  },
  {
   "cell_type": "code",
   "execution_count": null,
   "id": "e8e5f8b0-3db8-42ed-a7b9-4311644928f6",
   "metadata": {},
   "outputs": [],
   "source": [
    "#Declare optimizer\n",
    "clm_optimizer = BayesianOptimization(blackbox_clm, \n",
    "                                    {'x': (0, 0.1)}, #x is fmax\n",
    "                                    random_state = 45729, \n",
    "                                    )\n",
    "#Aquisition function\n",
    "acquisition_function = UtilityFunction(kind=\"ucb\", kappa=10)"
   ]
  },
  {
   "cell_type": "code",
   "execution_count": null,
   "id": "fa2c62ab-f889-4f99-8f30-8b0bbc4ac3d7",
   "metadata": {
    "tags": []
   },
   "outputs": [],
   "source": [
    "for p in np.linspace(0, 0.1, 5):\n",
    "    clm_optimizer.probe(\n",
    "        params={\"x\": p},\n",
    "        lazy=True,\n",
    "    )\n",
    "    \n",
    "clm_optimizer.maximize(init_points = 0, n_iter = 0)"
   ]
  },
  {
   "cell_type": "code",
   "execution_count": null,
   "id": "347612cc-082f-4955-97bb-26198c252ebc",
   "metadata": {},
   "outputs": [],
   "source": [
    "x_fmax = np.linspace(0, 0.1, 100).reshape(-1, 1)\n",
    "plot_gp_adapted(clm_optimizer, x_fmax, 'x')"
   ]
  },
  {
   "cell_type": "markdown",
   "id": "63340f36-76be-4473-ae21-ab39709491c8",
   "metadata": {
    "tags": []
   },
   "source": [
    "## 2D Bayesian Parameter Search (FMAX, Baseflow)"
   ]
  },
  {
   "cell_type": "code",
   "execution_count": null,
   "id": "1dcfe97e-78f6-4950-a5aa-af95c62c498e",
   "metadata": {},
   "outputs": [],
   "source": [
    "def blackbox_NDclm(baseflow, fmax, sand, clay):\n",
    "    #change parameter in netcdf file\n",
    "    target_surface_file = '/glade/work/marielj/inputdata/lnd/clm2/surfdata_map/hillslope/surfdata_1x1pt_US-MBP_hist_16pfts_Irrig_CMIP6_simyr2000_HAND_3_col_hillslope_lagg_pft_soildepth_mineral_nofmax.nc'\n",
    "    target_param1 = 'baseflow_scalar'\n",
    "    target_param2 = 'FMAX' \n",
    "    target_param3 = 'PCT_CLAY'\n",
    "    target_param4 = 'PCT_SAND'\n",
    "    \n",
    "    #change fmax\n",
    "    change_surf_param(target_param2, fmax, 0, target_surface_file)\n",
    "    #Assign to the top part of the soil column (indices 0 through 7)\n",
    "    for i in range(0, 8):\n",
    "        change_surf_param(target_param3, clay, i, target_surface_file)\n",
    "        change_surf_param(target_param4, sand, i, target_surface_file)\n",
    "    \n",
    "    os.chdir(CASE_DIR)\n",
    "    \n",
    "    #change baseflow_scalar\n",
    "    change_nl_param(target_param1, baseflow)\n",
    "    \n",
    "    #run case\n",
    "    pipe = subprocess.Popen(['qcmd', '-- ./case.submit'], stdout=subprocess.PIPE)\n",
    "    #result = pipe.communicate()[0]\n",
    "    #print(result)\n",
    "    #print(CASE_NAME + \" Run Complete\")\n",
    "    \n",
    "    #time delay -- check if archived data exists, if not wait 5 more seconds\n",
    "    SCRATCH_DIR = '/glade/scratch/marielj/archive/' + CASE_NAME + '/lnd/hist/'\n",
    "    while(not os.path.exists(SCRATCH_DIR + CASE_NAME + '.clm2.h2.2015-01-01-00000.nc')):\n",
    "        time.sleep(5)\n",
    "    \n",
    "    #find WTE data in scracth directory\n",
    "    os.chdir(SCRATCH_DIR)\n",
    "    \n",
    "    #Open data h1 data file\n",
    "    dat = xr.load_dataset(CASE_NAME + '.clm2.h2.2015-01-01-00000.nc')\n",
    "    mod = dat.QRUNOFF.values.reshape(365)\n",
    "    meas = np.array(stream['Flow_mms'])\n",
    "    \n",
    "    #Compute correlation\n",
    "    r2_plot = rsquared(meas, mod)\n",
    "    \n",
    "    #remove data\n",
    "    os.remove(CASE_NAME + '.clm2.h2.2015-01-01-00000.nc')\n",
    "    \n",
    "    #return average annual WTE\n",
    "    return r2_plot"
   ]
  },
  {
   "cell_type": "code",
   "execution_count": null,
   "id": "e268d506-41e7-45b3-a411-274d3e6e78b8",
   "metadata": {
    "tags": []
   },
   "outputs": [],
   "source": [
    "def blackbox_clm2D(baseflow, fmax):\n",
    "    #change parameter in netcdf file\n",
    "    target_surface_file = '/glade/work/marielj/inputdata/lnd/clm2/surfdata_map/hillslope/surfdata_1x1pt_US-MBP_hist_16pfts_Irrig_CMIP6_simyr2000_HAND_3_col_hillslope_lagg_pft_soildepth_nofmax.nc'\n",
    "    target_param1 = 'baseflow_scalar'\n",
    "    target_param2 = 'FMAX' \n",
    "    \n",
    "    #change fmax\n",
    "    change_surf_param(target_param2, fmax, 0, target_surface_file)\n",
    "    \n",
    "    os.chdir(CASE_DIR)\n",
    "    \n",
    "    #change baseflow_scalar\n",
    "    change_nl_param(target_param1, baseflow)\n",
    "    \n",
    "    #run case\n",
    "    pipe = subprocess.Popen(['qcmd', '-- ./case.submit'], stdout=subprocess.PIPE)\n",
    "    #result = pipe.communicate()[0]\n",
    "    #print(result)\n",
    "    #print(CASE_NAME + \" Run Complete\")\n",
    "    \n",
    "    #time delay -- check if archived data exists, if not wait 5 more seconds\n",
    "    SCRATCH_DIR = '/glade/scratch/marielj/archive/' + CASE_NAME + '/lnd/hist/'\n",
    "    while(not os.path.exists(SCRATCH_DIR + CASE_NAME + '.clm2.h2.2015-01-01-00000.nc')):\n",
    "        time.sleep(5)\n",
    "    \n",
    "    #find WTE data in scracth directory\n",
    "    os.chdir(SCRATCH_DIR)\n",
    "    \n",
    "    #Open data h1 data file\n",
    "    dat = xr.load_dataset(CASE_NAME + '.clm2.h2.2015-01-01-00000.nc')\n",
    "    mod = dat.QRUNOFF.values.reshape(365)\n",
    "    meas = np.array(stream['Flow_mms'])\n",
    "    \n",
    "    #Compute correlation\n",
    "    r2_plot = rsquared(meas, mod)\n",
    "    \n",
    "    #remove data\n",
    "    os.remove(CASE_NAME + '.clm2.h2.2015-01-01-00000.nc')\n",
    "    \n",
    "    #return average annual WTE\n",
    "    return r2_plot"
   ]
  },
  {
   "cell_type": "code",
   "execution_count": null,
   "id": "1c06400a-1661-4ff2-9634-20cc1cb0e1ae",
   "metadata": {},
   "outputs": [],
   "source": [
    "def plot_gp_2D(optimizer, aq, it, param1, param2, param1_min, param1_max, param2_min, param2_max):\n",
    "    #Setup \n",
    "    #Breakdown Data\n",
    "    max_ = optimizer.max\n",
    "    res = optimizer.res[:it]\n",
    "    x_ = np.array([r[\"params\"][param1] for r in res])\n",
    "    y_ = np.array([r[\"params\"][param2] for r in res])\n",
    "    z_ = np.array([r[\"target\"] for r in res])\n",
    "    points = pd.DataFrame({'baseflow' : x_,\n",
    "              'fmax': y_})\n",
    "\n",
    "    #Model Results\n",
    "    ser = pd.Series(z_,\n",
    "                      index=[y_, x_])\n",
    "    Z = ser.unstack().fillna(np.nan)\n",
    "\n",
    "    #Range space\n",
    "    x1 = np.linspace(param1_min, param1_max, 100).reshape(-1, 1)\n",
    "    x2 = np.linspace(param2_min, param2_max, 100).reshape(-1, 1)\n",
    "    xmesh, ymesh = np.meshgrid(x1, x2)\n",
    "    xy = np.array(list(zip(xmesh.reshape(10000, 1), ymesh.reshape(10000, 1)))).reshape(10000,2)\n",
    "\n",
    "    #Utility Function\n",
    "    util = aq.utility(xy, optimizer._gp, 0)\n",
    "    \n",
    "    #Plot\n",
    "    fig, axs = plt.subplots(1, 1, constrained_layout=True, figsize=(6,6))\n",
    "\n",
    "    #Axis 1: Function Estimate\n",
    "    grid_z0 = griddata(points, z_, xy, method='nearest').reshape(100,100)\n",
    "    mesh1 = axs.pcolormesh(xmesh, ymesh,  grid_z0, cmap=plt.cm.coolwarm)\n",
    "    axs.scatter(x_, y_, c='white', s=80, edgecolors='black')\n",
    "    axs.scatter(x_, y_, c='red', s=80, edgecolors='black')\n",
    "    axs.scatter(max_[\"params\"][param1], max_[\"params\"][param2], s=80, c='yellow', edgecolors='black')\n",
    "\n",
    "    axs.set_title('Function Estimate')\n",
    "    axs.set_xlabel(param1)\n",
    "    axs.set_ylabel(param2)\n",
    "\n",
    "    axs.set_xlim(param1_min, param1_max)\n",
    "    axs.set_ylim(param2_min, param2_max)\n",
    "\n",
    "    fig.colorbar(mesh1, location = 'bottom', label = r\"Streamflow $R^2$\")\n",
    "    plt.savefig('/glade/u/home/marielj/cesm-hillslope/figures/bayesopt/bayesopt_' + param1 + '_' + param2 + '_2d.pdf')\n",
    "\n",
    "    plt.show()"
   ]
  },
  {
   "cell_type": "code",
   "execution_count": null,
   "id": "b08476cb-94f6-4704-9175-0bf17a1e9c04",
   "metadata": {
    "tags": []
   },
   "outputs": [],
   "source": [
    "#Declare optimizer\n",
    "clm_optimizer2D = BayesianOptimization(f = blackbox_clm2D, \n",
    "                                    pbounds = {'baseflow': (0,1), 'fmax': (0, 0.4)}, \n",
    "                                    random_state = 4889, \n",
    "                                    verbose = 0\n",
    "                                    )\n",
    "#Aquisition function\n",
    "acquisition_function2D = UtilityFunction(kind=\"ucb\", kappa=10000)\n",
    "\n",
    "#Optimize\n",
    "clm_optimizer2D.maximize(init_points = 0, n_iter = 5, aquisition_function = acquisition_function2D, allow_duplicate_points=True)"
   ]
  },
  {
   "cell_type": "code",
   "execution_count": null,
   "id": "661ba3a5-7154-4f87-bc18-d937d262ef36",
   "metadata": {
    "tags": []
   },
   "outputs": [],
   "source": [
    "plot_gp_2D(clm_optimizer2D, acquisition_function2D, 6, 'baseflow', 'fmax', 0, 1, 0, 0.4)"
   ]
  },
  {
   "cell_type": "markdown",
   "id": "b9660fcb-89eb-46fc-8bce-11170f9ecd17",
   "metadata": {
    "jp-MarkdownHeadingCollapsed": true,
    "tags": []
   },
   "source": [
    "## Plot Bayes Opt Runscript"
   ]
  },
  {
   "cell_type": "markdown",
   "id": "9b5d1402-bbea-42c2-95f8-c5ffc640533b",
   "metadata": {
    "tags": []
   },
   "source": [
    "### Explorative"
   ]
  },
  {
   "cell_type": "code",
   "execution_count": null,
   "id": "460b312b-e21d-42ba-a00d-7c6bcd41e1d8",
   "metadata": {
    "tags": []
   },
   "outputs": [],
   "source": [
    "#Load data from json\n",
    "from bayes_opt.util import load_logs\n",
    "\n",
    "new_optimizer_explore = BayesianOptimization(f = blackbox_clm2D, \n",
    "                                    pbounds = {'baseflow': (0,1), 'fmax': (0, 0.4)}, \n",
    "                                    random_state = 44324, \n",
    "                                    verbose = 0\n",
    "                                    )\n",
    "acquisition_function = UtilityFunction(kind=\"ucb\", kappa=10e2)\n",
    "\n",
    "load_logs(new_optimizer_explore, logs=[\"/glade/u/home/marielj/cesm-hillslope/hillslope_full_log.json\"]);"
   ]
  },
  {
   "cell_type": "code",
   "execution_count": null,
   "id": "6d4c85bd-8d9e-42fb-8506-d9cb491d9294",
   "metadata": {},
   "outputs": [],
   "source": [
    "print(\"New optimizer is now aware of {} points.\".format(len(new_optimizer_explore.space)))"
   ]
  },
  {
   "cell_type": "code",
   "execution_count": null,
   "id": "ca0d9a18-d8fa-462c-87d8-8c9225fd02d6",
   "metadata": {
    "tags": []
   },
   "outputs": [],
   "source": [
    "plot_gp_2D(new_optimizer_explore, acquisition_function, 71, 'baseflow', 'fmax', 0, 1, 0, 0.4)"
   ]
  },
  {
   "cell_type": "code",
   "execution_count": null,
   "id": "dc8d4160-83e4-481f-9d10-4f51fea286a7",
   "metadata": {},
   "outputs": [],
   "source": [
    "#Pull out correlation values\n",
    "y_explore = [new_optimizer_explore.res[i]['target'] for i in range(0, 71)]"
   ]
  },
  {
   "cell_type": "code",
   "execution_count": null,
   "id": "6bfd9a2f-9cae-4ba6-ae7f-5277beed2a40",
   "metadata": {},
   "outputs": [],
   "source": [
    "fig, ax = plt.subplots(1, 1, figsize = (5, 3))\n",
    "sns.regplot(x = np.arange(1, 72), y = y_explore, ax = ax)\n",
    "ax.set_xlabel('Iteration')\n",
    "ax.set_ylabel(r'$R^2$')"
   ]
  },
  {
   "cell_type": "code",
   "execution_count": null,
   "id": "7f82021c-641d-402f-bdfa-dc0dc3ce6cc1",
   "metadata": {},
   "outputs": [],
   "source": [
    "new_optimizer_explore.res[41]"
   ]
  },
  {
   "cell_type": "markdown",
   "id": "8d7add22-205b-430f-a660-81a6e388225b",
   "metadata": {
    "jp-MarkdownHeadingCollapsed": true,
    "tags": []
   },
   "source": [
    "### Explotative"
   ]
  },
  {
   "cell_type": "code",
   "execution_count": null,
   "id": "b54c17ef-beed-4799-9464-50f0a796e817",
   "metadata": {
    "tags": []
   },
   "outputs": [],
   "source": [
    "#Load data from json\n",
    "from bayes_opt.util import load_logs\n",
    "\n",
    "new_optimizer_exploit = BayesianOptimization(f = blackbox_clm2D, \n",
    "                                    pbounds = {'baseflow': (0,1), 'fmax': (0, 0.4)}, \n",
    "                                    random_state = 44324, \n",
    "                                    verbose = 0\n",
    "                                    )\n",
    "acquisition_function = UtilityFunction(kind=\"ucb\", kappa=0.1)\n",
    "\n",
    "load_logs(new_optimizer_exploit, logs=[\"/glade/u/home/marielj/cesm-hillslope/hillslope_full_log_exploitative.json\"]);"
   ]
  },
  {
   "cell_type": "code",
   "execution_count": null,
   "id": "f7a57bd6-70b3-425a-bcd9-4daae58fba0d",
   "metadata": {},
   "outputs": [],
   "source": [
    "print(\"New optimizer is now aware of {} points.\".format(len(new_optimizer_exploit.space)))"
   ]
  },
  {
   "cell_type": "code",
   "execution_count": null,
   "id": "5e606fba-67bd-4c92-9cc2-a4fee125686e",
   "metadata": {},
   "outputs": [],
   "source": [
    "plot_gp_2D(new_optimizer_exploit, acquisition_function, 35, 'baseflow', 'fmax', 0, 1, 0, 0.4)"
   ]
  },
  {
   "cell_type": "code",
   "execution_count": null,
   "id": "28b3f96f-2329-4789-80d7-034fee335af7",
   "metadata": {},
   "outputs": [],
   "source": [
    "#Pull out correlation values\n",
    "y_exploit = [new_optimizer_exploit.res[i]['target'] for i in range(0, 35)]"
   ]
  },
  {
   "cell_type": "code",
   "execution_count": null,
   "id": "1208daba-056d-423c-bd21-5e7ec696ee9e",
   "metadata": {},
   "outputs": [],
   "source": [
    "fig, ax = plt.subplots(1, 1, figsize = (5, 3))\n",
    "sns.regplot(x = np.arange(1, 36), y = y_exploit, ax = ax)\n",
    "ax.set_xlabel('Iteration')\n",
    "ax.set_ylabel(r'$R^2$')"
   ]
  },
  {
   "cell_type": "code",
   "execution_count": null,
   "id": "e924200c-82e3-4ec1-a479-bad6a1cb9941",
   "metadata": {},
   "outputs": [],
   "source": [
    "new_optimizer_exploit.res[34]"
   ]
  },
  {
   "cell_type": "markdown",
   "id": "7e546afa-907b-47e1-9e19-dffeb98c526c",
   "metadata": {
    "jp-MarkdownHeadingCollapsed": true,
    "tags": []
   },
   "source": [
    "## Explorative on Mineral Soil"
   ]
  },
  {
   "cell_type": "code",
   "execution_count": null,
   "id": "63afd632-e3c4-44c7-8b7a-c7e41179fae0",
   "metadata": {},
   "outputs": [],
   "source": [
    "#Load data from json\n",
    "new_optimizer_mineral = BayesianOptimization(f = blackbox_clm2D, \n",
    "                                    pbounds = {'baseflow': (0,1), 'fmax': (0, 0.4)}, \n",
    "                                    random_state = 44324, \n",
    "                                    verbose = 0\n",
    "                                    )\n",
    "acquisition_function = UtilityFunction(kind=\"ucb\", kappa=10e2)\n",
    "\n",
    "load_logs(new_optimizer_mineral, logs=[\"/glade/u/home/marielj/cesm-hillslope/hillslope_full_mineral_log.json\"]);"
   ]
  },
  {
   "cell_type": "code",
   "execution_count": null,
   "id": "ba39f816-6c44-42ad-b4a8-e16206b99ec7",
   "metadata": {},
   "outputs": [],
   "source": [
    "print(\"New optimizer is now aware of {} points.\".format(len(new_optimizer_mineral.space)))"
   ]
  },
  {
   "cell_type": "code",
   "execution_count": null,
   "id": "5bb630fe-d552-4f02-b605-3c971421c7fa",
   "metadata": {},
   "outputs": [],
   "source": [
    "plot_gp_2D(new_optimizer_mineral, acquisition_function, 36, 'baseflow', 'fmax', 0, 1, 0, 0.4)"
   ]
  },
  {
   "cell_type": "code",
   "execution_count": null,
   "id": "08096aa7-5424-4a42-abbc-9e2f3ab7cc0c",
   "metadata": {},
   "outputs": [],
   "source": [
    "#Pull out correlation values\n",
    "y_mineral = [new_optimizer_mineral.res[i]['target'] for i in range(0, 35)]"
   ]
  },
  {
   "cell_type": "code",
   "execution_count": null,
   "id": "cfe1ab02-a18b-46cd-bf95-4b42e902b62e",
   "metadata": {},
   "outputs": [],
   "source": [
    "fig, ax = plt.subplots(1, 1, figsize = (5, 3))\n",
    "sns.regplot(x = np.arange(1, 36), y = y_mineral, ax = ax)\n",
    "ax.set_xlabel('Iteration')"
   ]
  },
  {
   "cell_type": "code",
   "execution_count": null,
   "id": "228575e8-0610-4ad3-8e52-f798bb35915e",
   "metadata": {},
   "outputs": [],
   "source": [
    "new_optimizer_mineral.max"
   ]
  },
  {
   "cell_type": "markdown",
   "id": "79f4e740-92f0-4732-af19-5926a489720c",
   "metadata": {
    "jp-MarkdownHeadingCollapsed": true,
    "tags": []
   },
   "source": [
    "## Mineral Soil with Soil Parameters"
   ]
  },
  {
   "cell_type": "code",
   "execution_count": null,
   "id": "87b59834-e742-476a-b053-d6a8f238ce20",
   "metadata": {},
   "outputs": [],
   "source": [
    "new_optimizer_mineral4D = BayesianOptimization(f = blackbox_NDclm, \n",
    "                                    pbounds = {'baseflow': (0,1), 'fmax': (0, 0.4), 'sand' : (0, 1), 'clay' : (0, 1)}, \n",
    "                                    random_state = 44738, \n",
    "                                    verbose = 0\n",
    "                                    )\n",
    "\n",
    "load_logs(new_optimizer_mineral4D, logs=[\"/glade/u/home/marielj/cesm-hillslope/hillslope_full_mineral4D_log.json\"]);"
   ]
  },
  {
   "cell_type": "code",
   "execution_count": null,
   "id": "4b8e51ef-a343-48d0-8bbd-40b22e7e1e16",
   "metadata": {},
   "outputs": [],
   "source": [
    "print(\"New optimizer is now aware of {} points.\".format(len(new_optimizer_mineral4D.space)))"
   ]
  },
  {
   "cell_type": "code",
   "execution_count": null,
   "id": "949419aa-52cc-47b8-852f-288643607a50",
   "metadata": {},
   "outputs": [],
   "source": [
    "#Pull out correlation values\n",
    "y_mineral4D = [new_optimizer_mineral4D.res[i]['target'] for i in range(0, 23)]"
   ]
  },
  {
   "cell_type": "code",
   "execution_count": null,
   "id": "b102db1c-155b-40f0-93f2-ae0a276093f5",
   "metadata": {},
   "outputs": [],
   "source": [
    "fig, ax = plt.subplots(1, 1, figsize = (5, 3))\n",
    "sns.regplot(x = np.arange(1, 24), y = y_mineral4D, ax = ax)\n",
    "ax.set_xlabel('Iteration')"
   ]
  },
  {
   "cell_type": "markdown",
   "id": "74252004-cc4b-41f9-8c41-8b7d3577600c",
   "metadata": {},
   "source": [
    "## Calibration to WTE"
   ]
  },
  {
   "cell_type": "code",
   "execution_count": null,
   "id": "f8700ee7-0033-4134-869a-de2959b1b877",
   "metadata": {},
   "outputs": [],
   "source": [
    "from bayes_opt.util import load_logs\n",
    "\n",
    "def blackbox_clm_wte(baseflow, fmax):\n",
    "    #change parameter in netcdf file\n",
    "    target_surface_file = '/glade/work/marielj/inputdata/lnd/clm2/surfdata_map/hillslope/surfdata_1x1pt_US-MBP_hist_16pfts_Irrig_CMIP6_simyr2000_HAND_3_col_hillslope_lagg_pft_soildepth_nofmax.nc'\n",
    "    target_param1 = 'baseflow_scalar'\n",
    "    target_param2 = 'FMAX' \n",
    "    \n",
    "    #change fmax\n",
    "    change_surf_param(target_param2, fmax, 0, target_surface_file)\n",
    "    \n",
    "    os.chdir(CASE_DIR)\n",
    "    \n",
    "    #change baseflow_scalar\n",
    "    change_nl_param(target_param1, baseflow)\n",
    "    \n",
    "    #run case\n",
    "    pipe = subprocess.Popen(['qcmd', '-- ./case.submit'], stdout=subprocess.PIPE)\n",
    "    #result = pipe.communicate()[0]\n",
    "    #print(result)\n",
    "    #print(CASE_NAME + \" Run Complete\")\n",
    "    \n",
    "    #time delay -- check if archived data exists, if not wait 5 more seconds\n",
    "    #Have to check for the column specific run here for proper bog wte calibration\n",
    "    SCRATCH_DIR = '/glade/scratch/marielj/archive/' + CASE_NAME + '/lnd/hist/'\n",
    "    while(not os.path.exists(SCRATCH_DIR + CASE_NAME + '.clm2.h3.2015-01-01-00000.nc')):\n",
    "        time.sleep(5)\n",
    "    \n",
    "    #find WTE data in scracth directory\n",
    "    os.chdir(SCRATCH_DIR)\n",
    "    \n",
    "    #Open data h1 data file\n",
    "    dat = xr.load_dataset(CASE_NAME + '.clm2.h3.2015-01-01-00000.nc')\n",
    "    mod = -np.array(dat.sel(column = 1).ZWT).reshape(365) #take SPECIFICALLY the bog water table\n",
    "    meas = np.array(wte.WTD)\n",
    "    \n",
    "    #Compute correlation\n",
    "    r2_plot = rsquared(meas, mod)\n",
    "    \n",
    "    #remove data\n",
    "    os.remove(CASE_NAME + '.clm2.h3.2015-01-01-00000.nc')\n",
    "    \n",
    "    #return average annual WTE\n",
    "    return r2_plot\n",
    "\n",
    "acquisition_function = UtilityFunction(kind = \"ucb\", kappa = 10e2)\n",
    "\n",
    "new_optimizer_wte = BayesianOptimization(f = blackbox_clm_wte, \n",
    "                                    pbounds = {'baseflow': (0,1), 'fmax': (0, 0.4)}, \n",
    "                                    random_state = 44738, \n",
    "                                    verbose = 0\n",
    "                                    )\n",
    "\n",
    "load_logs(new_optimizer_wte, logs=[\"/glade/u/home/marielj/cesm-hillslope/hillslope_full_wte_log.json\"]);"
   ]
  },
  {
   "cell_type": "code",
   "execution_count": null,
   "id": "97596db4-0396-4e98-9d81-402d0adf282d",
   "metadata": {},
   "outputs": [],
   "source": [
    "print(\"New optimizer is now aware of {} points.\".format(len(new_optimizer_wte.space)))"
   ]
  },
  {
   "cell_type": "code",
   "execution_count": null,
   "id": "cd78c5ef-6aec-45bf-81d4-2f4256cf0343",
   "metadata": {},
   "outputs": [],
   "source": [
    "#Pull out correlation values\n",
    "y_wte = [new_optimizer_wte.res[i]['target'] for i in range(0, 35)]"
   ]
  },
  {
   "cell_type": "code",
   "execution_count": null,
   "id": "85b7f497-9b06-4f4c-9afa-cb09c13870f4",
   "metadata": {},
   "outputs": [],
   "source": [
    "fig, ax = plt.subplots(1, 1, figsize = (5, 3))\n",
    "sns.regplot(x = np.arange(1, 36), y = y_wte, ax = ax)\n",
    "ax.set_xlabel('Iteration')"
   ]
  },
  {
   "cell_type": "code",
   "execution_count": null,
   "id": "b4ff94bf-d8b2-4eb2-b785-10590e6f2bec",
   "metadata": {},
   "outputs": [],
   "source": [
    "plot_gp_2D(new_optimizer_wte, acquisition_function, 36, 'baseflow', 'fmax', 0, 1, 0, 0.4)"
   ]
  },
  {
   "cell_type": "markdown",
   "id": "985367d4-f70a-433b-b357-75be06feb962",
   "metadata": {},
   "source": [
    "## Select Bayes Opt cases"
   ]
  },
  {
   "cell_type": "code",
   "execution_count": null,
   "id": "7eb727c9-7e40-414c-90b7-97409bdd9c2e",
   "metadata": {},
   "outputs": [],
   "source": [
    "#baseflow = 0.076, fmax = 0.155, organic soil\n",
    "surf = xr.load_dataset('/glade/work/marielj/inputdata/lnd/clm2/surfdata_map/hillslope/surfdata_1x1pt_US-MBP_hist_16pfts_Irrig_CMIP6_simyr2000_HAND_3_col_hillslope_lagg_pft_soildepth_nofmax.nc')\n",
    "surf.FMAX[0] = 0.11619085548362439\n",
    "surf.to_netcdf('/glade/work/marielj/inputdata/lnd/clm2/surfdata_map/hillslope/surfdata_1x1pt_US-MBP_hist_16pfts_Irrig_CMIP6_simyr2000_HAND_3_col_hillslope_lagg_pft_soildepth_fmax0.116.nc')"
   ]
  },
  {
   "cell_type": "code",
   "execution_count": null,
   "id": "225a5045-5224-4c5c-9e0d-037cfa1d8289",
   "metadata": {
    "tags": []
   },
   "outputs": [],
   "source": [
    "case_name = 'bayes-opt-fmax0.116-baseflow0.74'\n",
    "file_dir = '/glade/scratch/marielj/archive/' + case_name + '/lnd/hist/'\n",
    "selectfiles = glob(file_dir + case_name + '.clm2.h2.*.nc')\n",
    "selectcolfiles = glob(file_dir + case_name + '.clm2.h3.*.nc')\n",
    "\n",
    "selectdata = xr.open_mfdataset(selectfiles)\n",
    "selectcoldata = xr.open_mfdataset(selectcolfiles)"
   ]
  },
  {
   "cell_type": "code",
   "execution_count": null,
   "id": "345db700-bef0-423c-8062-25a5b753bb6f",
   "metadata": {},
   "outputs": [],
   "source": [
    "plotAvgHillslope(selectdata, stream, SPRUCEuncalib)"
   ]
  },
  {
   "cell_type": "code",
   "execution_count": null,
   "id": "ae081452-5ee1-4a45-a28a-201feaa4c65b",
   "metadata": {},
   "outputs": [],
   "source": [
    "selectcoldata.QINFL[selectcoldata.time.dt.year == 2015].plot(x = 'time', hue = 'column')"
   ]
  },
  {
   "cell_type": "code",
   "execution_count": null,
   "id": "5e7c02d2-bc2f-43f4-be74-7194e4287070",
   "metadata": {},
   "outputs": [],
   "source": [
    "#baseflow = 0.445, fmax = 0.107, organic soil\n",
    "surf = xr.load_dataset('/glade/work/marielj/inputdata/lnd/clm2/surfdata_map/hillslope/surfdata_1x1pt_US-MBP_hist_16pfts_Irrig_CMIP6_simyr2000_HAND_3_col_hillslope_lagg_pft_soildepth_nofmax.nc')\n",
    "surf.FMAX[0] = 0.10798314556601483\n",
    "surf.to_netcdf('/glade/work/marielj/inputdata/lnd/clm2/surfdata_map/hillslope/surfdata_1x1pt_US-MBP_hist_16pfts_Irrig_CMIP6_simyr2000_HAND_3_col_hillslope_lagg_pft_soildepth_fmax0.108.nc')"
   ]
  },
  {
   "cell_type": "code",
   "execution_count": null,
   "id": "f7a76403-f252-4934-b2bc-c478e37fbc2d",
   "metadata": {},
   "outputs": [],
   "source": [
    "case_name = 'bayes-opt-fmax0.108-baseflow0.445'\n",
    "file_dir = '/glade/scratch/marielj/archive/' + case_name + '/lnd/hist/'\n",
    "selectfiles2 = glob(file_dir + case_name + '.clm2.h2.*.nc')\n",
    "selectcolfiles2 = glob(file_dir + case_name + '.clm2.h3.*.nc')\n",
    "\n",
    "selectdata2 = xr.open_mfdataset(selectfiles2)\n",
    "selectcoldata2 = xr.open_mfdataset(selectcolfiles2)"
   ]
  },
  {
   "cell_type": "code",
   "execution_count": null,
   "id": "ac0d9f23-94de-4e68-835f-287698278732",
   "metadata": {},
   "outputs": [],
   "source": [
    "plotAvgHillslope(selectdata2, stream, SPRUCEuncalib)"
   ]
  },
  {
   "cell_type": "code",
   "execution_count": null,
   "id": "c30bf85c-d3b6-48fd-bbba-f54e1cadcf81",
   "metadata": {},
   "outputs": [],
   "source": [
    "#baseflow = 0.818, fmax = 0.236, mineral soil\n",
    "surf = xr.load_dataset('/glade/work/marielj/inputdata/lnd/clm2/surfdata_map/hillslope/surfdata_1x1pt_US-MBP_hist_16pfts_Irrig_CMIP6_simyr2000_HAND_3_col_hillslope_lagg_pft_soildepth_mineral_nofmax.nc')\n",
    "surf.FMAX[0] = 0.23639743403996652\n",
    "surf.to_netcdf('/glade/work/marielj/inputdata/lnd/clm2/surfdata_map/hillslope/surfdata_1x1pt_US-MBP_hist_16pfts_Irrig_CMIP6_simyr2000_HAND_3_col_hillslope_lagg_pft_soildepth_mineral_fmax0.236.nc')"
   ]
  },
  {
   "cell_type": "code",
   "execution_count": null,
   "id": "988a1a3a-8dfc-41bd-ac51-0bbaa0567253",
   "metadata": {},
   "outputs": [],
   "source": [
    "case_name = 'bayes-opt-mineral-fmax0.236-baseflow0.818'\n",
    "file_dir = '/glade/scratch/marielj/archive/' + case_name + '/lnd/hist/'\n",
    "selectfiles2 = glob(file_dir + case_name + '.clm2.h2.*.nc')\n",
    "selectcolfiles2 = glob(file_dir + case_name + '.clm2.h3.*.nc')\n",
    "\n",
    "selectdata3 = xr.open_mfdataset(selectfiles2)\n",
    "selectcoldata3 = xr.open_mfdataset(selectcolfiles2)"
   ]
  },
  {
   "cell_type": "code",
   "execution_count": null,
   "id": "ed9d272e-b185-442e-8115-1362ef0ca414",
   "metadata": {},
   "outputs": [],
   "source": [
    "plotAvgHillslope(selectdata3, stream, SPRUCEuncalib)"
   ]
  },
  {
   "cell_type": "code",
   "execution_count": null,
   "id": "585635f9-026d-415d-aae5-7660812125b2",
   "metadata": {},
   "outputs": [],
   "source": [
    "selectcoldata3.QINFL[selectcoldata3.time.dt.year == 2015].plot(x = 'time', hue = 'column')"
   ]
  },
  {
   "cell_type": "markdown",
   "id": "957bbfe8-fe4d-4123-8f1b-7f501259fac4",
   "metadata": {
    "jp-MarkdownHeadingCollapsed": true,
    "tags": []
   },
   "source": [
    "## OLD"
   ]
  },
  {
   "cell_type": "code",
   "execution_count": null,
   "id": "da5d1865-011a-4e7e-bb60-08bc8bfb5463",
   "metadata": {
    "jupyter": {
     "source_hidden": true
    },
    "tags": []
   },
   "outputs": [],
   "source": [
    "'''Plot FMAX calibration'''\n",
    "# FMAX - Maximum value of surface runoff due to saturation excess\n",
    "fmax = [0.0001, 0.001, 0.005, 0.01, 0.05, 0.075, 0.1, 0]\n",
    "\n",
    "for i in range(0,len(fmax)):\n",
    "    case_name = 'hillslope_tuning_nospinup_FMAX_v' + str(i) \n",
    "    #Import\n",
    "    file_dir = '/glade/scratch/marielj/archive/' + case_name + '/lnd/hist/'\n",
    "    files = glob(file_dir + case_name + '.clm2.h2.*.nc')\n",
    "    colfiles = glob(file_dir + case_name + '.clm2.h3.*.nc')\n",
    "\n",
    "    data = xr.open_mfdataset(files)\n",
    "    coldata = xr.open_mfdataset(colfiles)\n",
    "    \n",
    "    #Plot\n",
    "    plotAvgHillslope(data, stream, lab = str(fmax[i]))"
   ]
  },
  {
   "cell_type": "code",
   "execution_count": null,
   "id": "a361ec31-24c1-45e5-bf59-c2bd236bdb32",
   "metadata": {
    "tags": []
   },
   "outputs": [],
   "source": [
    "'''Plot BASEFLOW calibration'''\n",
    "# BASEFLOW - Scaling factor for baseflow/drainage from the gridcell\n",
    "baseflow = [10e-8, 10e-7, 10e-6, 10e-4, 10e-2, 1, 2]\n",
    "\n",
    "for i in range(0,len(baseflow)):\n",
    "    case_name = 'hillslope_tuning_nospinup_BASEFLOW_v' + str(i) \n",
    "    #Import\n",
    "    file_dir = '/glade/scratch/marielj/archive/' + case_name + '/lnd/hist/'\n",
    "    files = glob(file_dir + case_name + '.clm2.h2.*.nc')\n",
    "    colfiles = glob(file_dir + case_name + '.clm2.h3.*.nc')\n",
    "\n",
    "    data = xr.open_mfdataset(files)\n",
    "    coldata = xr.open_mfdataset(colfiles)\n",
    "    \n",
    "    #Plot\n",
    "    plotAvgHillslope(data, stream, lab = str(baseflow[i]))"
   ]
  },
  {
   "cell_type": "code",
   "execution_count": null,
   "id": "fd4f189d-9ba5-44ad-9253-83458355f505",
   "metadata": {
    "tags": []
   },
   "outputs": [],
   "source": [
    "'''Plot PCT_CLAY calibration'''\n",
    "clay = [0, 5, 10, 20, 30]\n",
    "\n",
    "for i in range(0,len(clay)):\n",
    "    case_name = 'hillslope_tuning_nospinup_PCT_CLAY_v' + str(i) \n",
    "    #Import\n",
    "    file_dir = '/glade/scratch/marielj/archive/' + case_name + '/lnd/hist/'\n",
    "    files = glob(file_dir + case_name + '.clm2.h2.*.nc')\n",
    "    colfiles = glob(file_dir + case_name + '.clm2.h3.*.nc')\n",
    "\n",
    "    data = xr.open_mfdataset(files)\n",
    "    coldata = xr.open_mfdataset(colfiles)\n",
    "    \n",
    "    #Plot\n",
    "    plotAvgHillslope(data, stream, lab = str(clay[i]))"
   ]
  },
  {
   "cell_type": "code",
   "execution_count": null,
   "id": "c05b011a-15cc-4bd3-947a-11c41e29900c",
   "metadata": {
    "tags": []
   },
   "outputs": [],
   "source": [
    "'''Plot PCT_SAND calibration'''\n",
    "sand = [0, 5, 10, 20, 30]\n",
    "\n",
    "for i in range(0,len(sand)):\n",
    "    case_name = 'hillslope_tuning_nospinup_PCT_SAND_v' + str(i) \n",
    "    #Import\n",
    "    file_dir = '/glade/scratch/marielj/archive/' + case_name + '/lnd/hist/'\n",
    "    files = glob(file_dir + case_name + '.clm2.h2.*.nc')\n",
    "    colfiles = glob(file_dir + case_name + '.clm2.h3.*.nc')\n",
    "\n",
    "    data = xr.open_mfdataset(files)\n",
    "    coldata = xr.open_mfdataset(colfiles)\n",
    "    \n",
    "    #Plot\n",
    "    plotAvgHillslope(data, stream, lab = str(sand[i]))"
   ]
  },
  {
   "cell_type": "code",
   "execution_count": null,
   "id": "3b4a86d4-ad08-4016-ab74-dd99c5fd70ca",
   "metadata": {
    "tags": []
   },
   "outputs": [],
   "source": [
    "'''PARAMETERS from PARAM file'''\n",
    "params = xr.load_dataset('/glade/u/home/marielj/cesm-hillslope/calibration-runs/params/clm50_params.c211112.nc')"
   ]
  },
  {
   "cell_type": "code",
   "execution_count": null,
   "id": "0ed11545-2ccc-4386-956d-8e97f0e7dd71",
   "metadata": {
    "tags": []
   },
   "outputs": [],
   "source": [
    "params"
   ]
  },
  {
   "cell_type": "code",
   "execution_count": null,
   "id": "27110ee8-b168-4b93-a333-40adca87cb2c",
   "metadata": {
    "tags": []
   },
   "outputs": [],
   "source": [
    "'''SLATOP - Arctic Grass'''\n",
    "slatop = [0.004, 0.008, 0.016, 0.032, 0.04]\n",
    "\n",
    "for i in range(0,len(slatop)):\n",
    "    case_name = 'hillslope_tuning_nospinup_SLATOP_v' + str(i) \n",
    "    #Import\n",
    "    file_dir = '/glade/scratch/marielj/archive/' + case_name + '/lnd/hist/'\n",
    "    files = glob(file_dir + case_name + '.clm2.h2.*.nc')\n",
    "    colfiles = glob(file_dir + case_name + '.clm2.h3.*.nc')\n",
    "\n",
    "    data = xr.open_mfdataset(files)\n",
    "    coldata = xr.open_mfdataset(colfiles)\n",
    "    \n",
    "    #Plot\n",
    "    plotAvgHillslope(data, stream, lab = str(slatop[i]))"
   ]
  }
 ],
 "metadata": {
  "kernelspec": {
   "display_name": "Python [conda env:ncdf]",
   "language": "python",
   "name": "conda-env-ncdf-py"
  },
  "language_info": {
   "codemirror_mode": {
    "name": "ipython",
    "version": 3
   },
   "file_extension": ".py",
   "mimetype": "text/x-python",
   "name": "python",
   "nbconvert_exporter": "python",
   "pygments_lexer": "ipython3",
   "version": "3.9.15"
  }
 },
 "nbformat": 4,
 "nbformat_minor": 5
}
